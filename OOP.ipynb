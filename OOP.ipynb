{
 "cells": [
  {
   "cell_type": "markdown",
   "metadata": {},
   "source": [
    "# Object Oriented Programming"
   ]
  },
  {
   "cell_type": "markdown",
   "metadata": {},
   "source": [
    "Object-oriented programming (OOP) is a widely used programming paradigm in PYhton Programming based on the concept of \"object\" and type of that object also known as class. Object may contain data, in the form of fields, also known as attributes; and code, in the form of procedures, also known as methods. Objects in a class have a notion of \"this\" or \"self\" which identifies them whithin a class. Type of objects decides that which operations are allowed and which operations are not allowed on them. Objects can interact with one another to achieve a desired goal/output.\n",
    "Following concetps will be covered in this chapter:\n",
    "\n",
    "1. creating a class in Python Programming\n",
    "2. Instantiating/creating objects of that class\n",
    "3. Adding attributes to a class by creating class or instance variable\n",
    "4. Defining behaviour of the objects by creating methods within a class\n",
    "5. Creating constructor and destructor in python using __init__() and __del__() in python\n",
    "6. Understanding inheritance and types of inheritance along with the encaptulation and polymorphism in python\n",
    "7. Understanding operator overloading with special methods in python\n",
    "8. Deciding the order of execution by understaing method resolution order in python along with a special type of inheritance which is known as diamond inheritance\n",
    "\n"
   ]
  },
  {
   "cell_type": "markdown",
   "metadata": {},
   "source": [
    "# What is Object Oriented Programming?\n",
    "\n"
   ]
  },
  {
   "cell_type": "markdown",
   "metadata": {},
   "source": [
    "- Everything in python programming is an object. \n",
    "\n",
    "- A program or script is made up of so many objects which cooperate with each other to complete the task.\n",
    "\n",
    "- Objects interacts with each other and sometimes they use each other’s capabilities to reach to the final goal.\n",
    "\n",
    "- Ex. – split() method on string objects returns list object.\n"
   ]
  },
  {
   "cell_type": "markdown",
   "metadata": {},
   "source": [
    "Image"
   ]
  },
  {
   "attachments": {
    "image.png": {
     "image/png": "[encoded data removed]"
    }
   },
   "cell_type": "markdown",
   "metadata": {},
   "source": [
    "![image.png](attachment:image.png)\n"
   ]
  },
  {
   "cell_type": "code",
   "execution_count": 1,
   "metadata": {},
   "outputs": [
    {
     "ename": "IndentationError",
     "evalue": "unexpected indent (<ipython-input-1-6aa5fda6f715>, line 2)",
     "output_type": "error",
     "traceback": [
      "\u001b[1;36m  File \u001b[1;32m\"<ipython-input-1-6aa5fda6f715>\"\u001b[1;36m, line \u001b[1;32m2\u001b[0m\n\u001b[1;33m    font-size: 130%;\u001b[0m\n\u001b[1;37m    ^\u001b[0m\n\u001b[1;31mIndentationError\u001b[0m\u001b[1;31m:\u001b[0m unexpected indent\n"
     ]
    }
   ],
   "source": []
  },
  {
   "cell_type": "markdown",
   "metadata": {},
   "source": [
    "Creating objects and classes in Python:\n"
   ]
  },
  {
   "cell_type": "code",
   "execution_count": 1,
   "metadata": {},
   "outputs": [
    {
     "name": "stdout",
     "output_type": "stream",
     "text": [
      "So far 1\n",
      "So far 2\n",
      "So far 3\n"
     ]
    }
   ],
   "source": [
    "class Sample: \n",
    "    num1 = 0\n",
    "    def addone(self) :\n",
    "        self.num1 += 1\n",
    "        print(\"So far\",self.num1)\n",
    "\n",
    "obj1 = Sample()\n",
    "\n",
    "obj1.addone()\n",
    "obj1.addone()\n",
    "obj1.addone()"
   ]
  },
  {
   "cell_type": "markdown",
   "metadata": {},
   "source": [
    "using dir() and type()"
   ]
  },
  {
   "cell_type": "code",
   "execution_count": 2,
   "metadata": {},
   "outputs": [
    {
     "name": "stdout",
     "output_type": "stream",
     "text": [
      "Type <class '__main__.Sample'>\n",
      "Dir  ['__class__', '__delattr__', '__dict__', '__dir__', '__doc__', '__eq__', '__format__', '__ge__', '__getattribute__', '__gt__', '__hash__', '__init__', '__init_subclass__', '__le__', '__lt__', '__module__', '__ne__', '__new__', '__reduce__', '__reduce_ex__', '__repr__', '__setattr__', '__sizeof__', '__str__', '__subclasshook__', '__weakref__', 'addone', 'num1']\n"
     ]
    }
   ],
   "source": [
    "class Sample: \n",
    "    num1 = 0\n",
    "    def addone(self) :\n",
    "        self.num1 += 1\n",
    "        print(\"So far\",self.num1)\n",
    "\n",
    "obj1 = Sample()\n",
    " \n",
    "print(\"Type\", type(obj1))\n",
    "print(\"Dir \", dir(obj1))\n"
   ]
  },
  {
   "cell_type": "raw",
   "metadata": {},
   "source": [
    "Object Lifecycle"
   ]
  },
  {
   "cell_type": "markdown",
   "metadata": {},
   "source": [
    "Constructor :special block of instructions created with  def __init__(self):  \n",
    "\n",
    "Called when object is created using a class name.\n",
    "\n",
    "Used to initialize values for instance variable. \n",
    "\n",
    "Destructor :special block of instructions created with  def __del__(self):  \n",
    "\n",
    "Called when object is destroyed either by assigning a different class object to same identifier name oe using del().\n",
    "\n",
    "Used to remove object from the memory.\n"
   ]
  },
  {
   "cell_type": "code",
   "execution_count": 3,
   "metadata": {},
   "outputs": [
    {
     "name": "stdout",
     "output_type": "stream",
     "text": [
      "dog object constructed 1\n",
      "Barking\n",
      "dog object destructed 0\n",
      "Now dog1 is dog1 destroyed\n"
     ]
    }
   ],
   "source": [
    "class Dog:\n",
    "    count = 0\n",
    "    def __init__(self,fur,height,color):\n",
    "        self.count += 1\n",
    "        print('dog object constructed', self.count)\n",
    "        self.fur = fur\n",
    "        self.height = height\n",
    "        self.color = color\n",
    "    def bark(self) :\n",
    "        print(\"Barking\")\n",
    "    def __del__(self):\n",
    "        print('dog object destructed',self.count-1)\n",
    "dog1 = Dog(True,2.3,\"brown\")\n",
    "dog1.bark()\n",
    "dog1 = \"dog1 destroyed\"\n",
    "print('Now dog1 is', dog1)\n",
    "\n"
   ]
  },
  {
   "cell_type": "markdown",
   "metadata": {},
   "source": [
    "The constructor and destructor are optional. \n",
    "\n",
    "The constructor is typically used to set up variables. \n",
    "\n",
    "The destructor is seldom used.\n"
   ]
  },
  {
   "cell_type": "markdown",
   "metadata": {},
   "source": [
    "Many Instances\n"
   ]
  },
  {
   "cell_type": "markdown",
   "metadata": {},
   "source": [
    "We can create as many objects as required.\n",
    "Each distinct object can be recognized by instance name/variable name.\n",
    "Each instance has its own copy of the instance variables in memory.\n",
    "Constructor – def __init__() can have additional parameters.  \n",
    "These can be used to set up instance variables for the particular instance of the class.\n",
    "Ex. Fur,height,color\n"
   ]
  },
  {
   "cell_type": "code",
   "execution_count": 4,
   "metadata": {},
   "outputs": [
    {
     "name": "stdout",
     "output_type": "stream",
     "text": [
      "dog object constructed 1\n",
      "fur True height 2.3\n",
      "dog object constructed 1\n",
      "fur False height 3.1\n"
     ]
    }
   ],
   "source": [
    "class Dog:\n",
    "    count = 0\n",
    "    def __init__(self,fur,height,color):\n",
    "        self.count += 1\n",
    "        print('dog object constructed', self.count)\n",
    "        self.fur = fur\n",
    "        self.height = height\n",
    "        self.color = color\n",
    "    def print_dog(self) :\n",
    "        print(\"fur\", self.fur ,\"height\", self.height )\n",
    "tom = Dog(True,2.3,\"brown\")\n",
    "tom.print_dog()\n",
    "charlie = Dog(False, 3.1,\"black\")\n",
    "charlie.print_dog()\n"
   ]
  },
  {
   "cell_type": "markdown",
   "metadata": {},
   "source": [
    "Inheritance"
   ]
  },
  {
   "cell_type": "markdown",
   "metadata": {},
   "source": [
    "Inheritance is nothing but using existing class capabilities and adding more functionalities along with it while creating new class.\n",
    "\n",
    "It is also known as write once use many times facility.\n",
    "\n",
    "Existing class is known as parent class and new class is known as child class.\n"
   ]
  },
  {
   "cell_type": "code",
   "execution_count": 5,
   "metadata": {},
   "outputs": [
    {
     "name": "stdout",
     "output_type": "stream",
     "text": [
      "Animalobject constructed 1\n",
      "4 2\n"
     ]
    }
   ],
   "source": [
    "class Animal:\n",
    "    count = 0\n",
    "    def __init__(self,nooflegs,noofeyes):\n",
    "        self.count += 1\n",
    "        print('Animalobject constructed', self.count)\n",
    "        self.nooflegs = nooflegs\n",
    "        self. noofeyes = noofeyes\n",
    "    def print_dog(self) :\n",
    "        print(self.nooflegs, self. noofeyes)\n",
    "\n",
    "class Dog(Animal):\n",
    "    pass\n",
    "tom1 = Dog(4,2)\n",
    "tom1.print_dog()"
   ]
  },
  {
   "cell_type": "markdown",
   "metadata": {},
   "source": [
    "Dog is a class which extends Animal. Dog has all the capabilities of Animal class.\n"
   ]
  },
  {
   "cell_type": "markdown",
   "metadata": {},
   "source": [
    "Simple Inheritance – Memory representation\n"
   ]
  },
  {
   "cell_type": "code",
   "execution_count": 6,
   "metadata": {},
   "outputs": [
    {
     "name": "stdout",
     "output_type": "stream",
     "text": [
      "constructor 1\n",
      "4 2\n",
      "1\n",
      "constructor 1\n",
      "2 2\n"
     ]
    }
   ],
   "source": [
    "class Animal:\n",
    "    count = 0\n",
    "    def __init__(self,nooflegs,noofeyes):\n",
    "        self.count += 1\n",
    "        print('constructor', self.count)\n",
    "        self.nooflegs = nooflegs\n",
    "        self.noofeyes = noofeyes\n",
    "    def print_dog(self) :\n",
    "        print(self.nooflegs, self. noofeyes)\n",
    "\n",
    "class Dog(Animal):\n",
    "    dog_count = 0\n",
    "    def add_dogcount(self):\n",
    "        self.dog_count += 1\n",
    "        print(self.dog_count)\n",
    "tom1 = Dog(4,2)\n",
    "tom1.print_dog()\n",
    "tom1.add_dogcount()\n",
    "anim1 = Animal(2,2)\n",
    "anim1.print_dog()\n",
    "#anim1.add_dogcount() -->error\n"
   ]
  },
  {
   "cell_type": "markdown",
   "metadata": {},
   "source": [
    "Inheritance adding more to subclass"
   ]
  },
  {
   "cell_type": "code",
   "execution_count": 7,
   "metadata": {},
   "outputs": [
    {
     "name": "stdout",
     "output_type": "stream",
     "text": [
      "child constructor\n",
      "parent constructor\n",
      "brown\n"
     ]
    }
   ],
   "source": [
    "class Parent():\n",
    "    def __init__(self,last_name,eye_color):\n",
    "        print (\"parent constructor\")\n",
    "        self.last_name = last_name\n",
    "        self.eye_color = eye_color\n",
    "\n",
    "class Child(Parent):\n",
    "    def __init__(self,last_name,eye_color,no_of_toys):\n",
    "        print (\"child constructor\")\n",
    "        Parent.__init__(self,last_name,eye_color)\n",
    "        self.no_of_toys = no_of_toys\n",
    "\n",
    "katappa = Child(\"katappa\",\"brown\",\"2\")\n",
    "print (katappa.eye_color)\n",
    "\n"
   ]
  },
  {
   "cell_type": "markdown",
   "metadata": {},
   "source": [
    "Last_name and eye_color are inherited from the parent class.\n",
    "Child class has one more attribute no_of_toys.\n"
   ]
  },
  {
   "cell_type": "markdown",
   "metadata": {},
   "source": [
    "Inheritance - Methods"
   ]
  },
  {
   "cell_type": "code",
   "execution_count": 8,
   "metadata": {},
   "outputs": [
    {
     "name": "stdout",
     "output_type": "stream",
     "text": [
      "child constructor\n",
      "parent constructor\n",
      "brown\n"
     ]
    }
   ],
   "source": [
    "class Parent():\n",
    "    def __init__(self,last_name,eye_color):\n",
    "        print (\"parent constructor\")\n",
    "        self.last_name = last_name\n",
    "        self.eye_color = eye_color\n",
    "    def info(self):\n",
    "        print (self.eye_color)\n",
    "class Child(Parent):\n",
    "    def __init__(self,last_name,eye_color,no_of_toys):\n",
    "        print (\"child constructor\")\n",
    "        Parent.__init__(self,last_name,eye_color)\n",
    "        self.no_of_toys = no_of_toys\n",
    "katappa = Child(\"katappa\",\"brown\",\"2\")\n",
    "katappa.info()\n"
   ]
  },
  {
   "cell_type": "markdown",
   "metadata": {},
   "source": [
    "Info method is inherited from the parent class.\n"
   ]
  },
  {
   "cell_type": "markdown",
   "metadata": {},
   "source": [
    "Types of Inheritance:\n",
    "1. Single level\n",
    "2. Multilevel\n",
    "3. Multiple\n",
    "4. Hierarchical"
   ]
  },
  {
   "cell_type": "markdown",
   "metadata": {},
   "source": [
    "Multiple Inheritance"
   ]
  },
  {
   "cell_type": "markdown",
   "metadata": {},
   "source": [
    "Unlike languages like Java and C#, python allows multiple inheritance i.e you can inherit from multiple classes at the same time like example given below."
   ]
  },
  {
   "cell_type": "code",
   "execution_count": 9,
   "metadata": {},
   "outputs": [
    {
     "name": "stdout",
     "output_type": "stream",
     "text": [
      "method_super1 method called\n",
      "method_super2 method called\n"
     ]
    }
   ],
   "source": [
    "class MySuperClass1():\n",
    " \n",
    "    def method_super1(self):\n",
    "        print(\"method_super1 method called\")\n",
    "\n",
    "class MySuperClass2():\n",
    " \n",
    "    def method_super2(self):\n",
    "        print(\"method_super2 method called\")\n",
    "\n",
    "class ChildClass(MySuperClass1, MySuperClass2):\n",
    " \n",
    "    def child_method(self):\n",
    "        print(\"child method\")\n",
    "\n",
    "c = ChildClass()\n",
    "c.method_super1()\n",
    "c.method_super2()"
   ]
  },
  {
   "cell_type": "markdown",
   "metadata": {},
   "source": [
    "ChildClass inherits methods from two parents class MySuperClass1 and MySuperClass2\n"
   ]
  },
  {
   "cell_type": "markdown",
   "metadata": {},
   "source": [
    "Multilevel Inheritance"
   ]
  },
  {
   "cell_type": "code",
   "execution_count": 10,
   "metadata": {},
   "outputs": [
    {
     "name": "stdout",
     "output_type": "stream",
     "text": [
      "eating\n",
      "barking\n",
      "weeping\n"
     ]
    }
   ],
   "source": [
    "class Animal:\n",
    "    def eat(self):\n",
    "        print(\"eating\")\n",
    "class Dog(Animal):\n",
    "    def bark(self):\n",
    "        print(\"barking\")\n",
    "class Babydog(Dog):\n",
    "    def weep(self):\n",
    "        print(\"weeping\")\n",
    "d = Babydog()\n",
    "d.eat()\n",
    "d.bark()\n",
    "d.weep()"
   ]
  },
  {
   "cell_type": "markdown",
   "metadata": {},
   "source": [
    "Child class BabyDog inherits method (eat and bark) from parent class dog which inherits method (eat) from parent class Animal.\n"
   ]
  },
  {
   "cell_type": "markdown",
   "metadata": {},
   "source": [
    "Hierarchical Inheritance"
   ]
  },
  {
   "cell_type": "code",
   "execution_count": 11,
   "metadata": {},
   "outputs": [
    {
     "name": "stdout",
     "output_type": "stream",
     "text": [
      "eating\n",
      "eating\n",
      "roaring\n",
      "barking\n"
     ]
    }
   ],
   "source": [
    "class Animal:\n",
    "    def eat(self):\n",
    "        print(\"eating\")\n",
    "class Dog(Animal):\n",
    "    def bark(self):\n",
    "        print(\"barking\")\n",
    "class Cat(Animal):\n",
    "    def roar(self):\n",
    "        print(\"roaring\")\n",
    "d=Dog()\n",
    "c=Cat()\n",
    "c.eat()\n",
    "d.eat()\n",
    "c.roar()\n",
    "d.bark()"
   ]
  },
  {
   "cell_type": "markdown",
   "metadata": {},
   "source": [
    "Child class Dog and Cat inherits method (eat) from parent class Animal."
   ]
  },
  {
   "cell_type": "markdown",
   "metadata": {},
   "source": [
    "Polymorphic"
   ]
  },
  {
   "cell_type": "code",
   "execution_count": 12,
   "metadata": {},
   "outputs": [
    {
     "name": "stdout",
     "output_type": "stream",
     "text": [
      "The shark cannot swim backwards, but can sinkbackwards.\n",
      "The shark's skeleton is made of cartilage.\n",
      "The clownfish can swim backwards.\n",
      "The clownfish's skeleton is made of bone.\n"
     ]
    }
   ],
   "source": [
    "class Shark(): \n",
    "    def swim_backwards(self): \n",
    "        print(\"The shark cannot swim backwards, but can sinkbackwards.\") \n",
    "    def skeleton(self): \n",
    "        print(\"The shark's skeleton is made of cartilage.\") \n",
    "class Clownfish(): \n",
    "    def swim_backwards(self): \n",
    "        print(\"The clownfish can swim backwards.\") \n",
    "    def skeleton(self): \n",
    "        print(\"The clownfish's skeleton is made of bone.\")\n",
    "S1=Shark()\n",
    "C1=Clownfish()\n",
    "S1.swim_backwards()\n",
    "S1.skeleton()\n",
    "C1.swim_backwards()\n",
    "C1.skeleton()\n"
   ]
  },
  {
   "cell_type": "markdown",
   "metadata": {},
   "source": [
    "Inheritance – overriding"
   ]
  },
  {
   "cell_type": "code",
   "execution_count": 13,
   "metadata": {},
   "outputs": [
    {
     "name": "stdout",
     "output_type": "stream",
     "text": [
      "child constructor\n",
      "parent constructor\n",
      "brown\n"
     ]
    }
   ],
   "source": [
    "class Parent():\n",
    "    def __init__(self,last_name,eye_color):\n",
    "        print (\"parent constructor\")\n",
    "        self.last_name = last_name\n",
    "        self.eye_color = eye_color\n",
    "    def info(self):\n",
    "        print (self.last_name)\n",
    "class Child(Parent):\n",
    "    def __init__(self,last_name,eye_color,toys):\n",
    "        print (\"child constructor\")\n",
    "        Parent.__init__(self,last_name,eye_color)\n",
    "        self.toys = toys\n",
    "    def info(self):\n",
    "        print (self.eye_color)\n",
    "katappa = Child(\"katappa\",\"brown\",\"2\")\n",
    "katappa.info()"
   ]
  },
  {
   "cell_type": "markdown",
   "metadata": {},
   "source": [
    "Info method is having two different definition with same name and parameters"
   ]
  },
  {
   "cell_type": "markdown",
   "metadata": {},
   "source": [
    "Operator Overloading"
   ]
  },
  {
   "cell_type": "markdown",
   "metadata": {},
   "source": [
    "you can use +  operator for adding numbers and at the same time to concatenate strings. It is possible because +  operator is overloaded by both int  class and str  class. The operators are actually methods defined in respective classes. Defining methods for operators is known as operator overloading. For e.g. To use +  operator with custom objects  you need to define a method called __add__ ."
   ]
  },
  {
   "cell_type": "code",
   "execution_count": 14,
   "metadata": {},
   "outputs": [
    {
     "name": "stdout",
     "output_type": "stream",
     "text": [
      "4\n",
      "5\n",
      "9\n"
     ]
    }
   ],
   "source": [
    "class Circle:\n",
    " \n",
    "    def __init__(self, radius):\n",
    "        self.__radius = radius\n",
    " \n",
    "    def setRadius(self, radius):\n",
    "        self.__radius = radius\n",
    " \n",
    "    def getRadius(self):\n",
    "        return self.__radius\n",
    " \n",
    "    def area(self):\n",
    "        return math.pi * self.__radius ** 2\n",
    " \n",
    "    def __add__(self, another_circle):\n",
    "        return Circle( self.__radius + another_circle.__radius )\n",
    " \n",
    "c1 = Circle(4)\n",
    "print(c1.getRadius())\n",
    " \n",
    "c2 = Circle(5)\n",
    "print(c2.getRadius())\n",
    " \n",
    "c3 = c1 + c2 # This became possible because we have overloaded + operator by adding a    method named __add__\n",
    "print(c3.getRadius())"
   ]
  },
  {
   "cell_type": "code",
   "execution_count": 15,
   "metadata": {},
   "outputs": [
    {
     "name": "stdout",
     "output_type": "stream",
     "text": [
      "(1,5)\n"
     ]
    }
   ],
   "source": [
    "class Point:    \n",
    "    def __init__(self, x = 0, y = 0):        \n",
    "        self.x = x        \n",
    "        self.y = y\n",
    "    def __str__(self):        \n",
    "        return \"({0},{1})\".format(self.x,self.y)\n",
    "    def __add__(self,other):        \n",
    "        x = self.x + other.x        \n",
    "        y = self.y + other.y        \n",
    "        return Point(x,y)\u000b",
    "p1 = Point(2,3) \n",
    "p2 = Point(-1,2) \n",
    "print(p1+p2) "
   ]
  },
  {
   "attachments": {
    "image.png": {
     "image/png": "[encoded data removed]"
    }
   },
   "cell_type": "markdown",
   "metadata": {},
   "source": [
    "![image.png](attachment:image.png)"
   ]
  },
  {
   "attachments": {
    "image.png": {
     "image/png": "[encoded data removed]"
    }
   },
   "cell_type": "markdown",
   "metadata": {},
   "source": [
    "![image.png](attachment:image.png)"
   ]
  },
  {
   "cell_type": "markdown",
   "metadata": {},
   "source": [
    "Encapsulation\n"
   ]
  },
  {
   "cell_type": "code",
   "execution_count": 16,
   "metadata": {},
   "outputs": [
    {
     "name": "stdout",
     "output_type": "stream",
     "text": [
      "42\n",
      "72\n"
     ]
    },
    {
     "ename": "AttributeError",
     "evalue": "'Sample' object has no attribute '__num1'",
     "output_type": "error",
     "traceback": [
      "\u001b[1;31m---------------------------------------------------------------------------\u001b[0m",
      "\u001b[1;31mAttributeError\u001b[0m                            Traceback (most recent call last)",
      "\u001b[1;32m<ipython-input-16-8985f89c2f88>\u001b[0m in \u001b[0;36m<module>\u001b[1;34m()\u001b[0m\n\u001b[0;32m      7\u001b[0m \u001b[0mobj1\u001b[0m\u001b[1;33m.\u001b[0m\u001b[0maddone\u001b[0m\u001b[1;33m(\u001b[0m\u001b[1;36m42\u001b[0m\u001b[1;33m)\u001b[0m\u001b[1;33m\u001b[0m\u001b[0m\n\u001b[0;32m      8\u001b[0m \u001b[0mobj1\u001b[0m\u001b[1;33m.\u001b[0m\u001b[0maddone\u001b[0m\u001b[1;33m(\u001b[0m\u001b[1;36m30\u001b[0m\u001b[1;33m)\u001b[0m\u001b[1;33m\u001b[0m\u001b[0m\n\u001b[1;32m----> 9\u001b[1;33m \u001b[0mprint\u001b[0m\u001b[1;33m(\u001b[0m\u001b[0mobj1\u001b[0m\u001b[1;33m.\u001b[0m\u001b[0m__num1\u001b[0m\u001b[1;33m)\u001b[0m\u001b[1;33m\u001b[0m\u001b[0m\n\u001b[0m",
      "\u001b[1;31mAttributeError\u001b[0m: 'Sample' object has no attribute '__num1'"
     ]
    }
   ],
   "source": [
    "class Sample:\n",
    "    __num1 = 0\n",
    "    def addone(self,increment) :\n",
    "        self. __num1 = self. __num1 + increment\n",
    "        print(self. __num1)\n",
    "obj1 = Sample()\n",
    "obj1.addone(42)\n",
    "obj1.addone(30)\n",
    "print(obj1.__num1)"
   ]
  },
  {
   "cell_type": "markdown",
   "metadata": {},
   "source": [
    "Num1 is hidden/private variable and num1 is not allowed to be changed outside the class definition directly.\n"
   ]
  },
  {
   "cell_type": "code",
   "execution_count": 17,
   "metadata": {},
   "outputs": [
    {
     "name": "stdout",
     "output_type": "stream",
     "text": [
      "updating software\n",
      "driving\n"
     ]
    },
    {
     "ename": "AttributeError",
     "evalue": "'Car' object has no attribute '__updateSoftware'",
     "output_type": "error",
     "traceback": [
      "\u001b[1;31m---------------------------------------------------------------------------\u001b[0m",
      "\u001b[1;31mAttributeError\u001b[0m                            Traceback (most recent call last)",
      "\u001b[1;32m<ipython-input-17-4c9dc03d6c37>\u001b[0m in \u001b[0;36m<module>\u001b[1;34m()\u001b[0m\n\u001b[0;32m      8\u001b[0m \u001b[0mredcar\u001b[0m \u001b[1;33m=\u001b[0m \u001b[0mCar\u001b[0m\u001b[1;33m(\u001b[0m\u001b[1;33m)\u001b[0m\u001b[1;33m\u001b[0m\u001b[0m\n\u001b[0;32m      9\u001b[0m \u001b[0mredcar\u001b[0m\u001b[1;33m.\u001b[0m\u001b[0mdrive\u001b[0m\u001b[1;33m(\u001b[0m\u001b[1;33m)\u001b[0m\u001b[1;33m\u001b[0m\u001b[0m\n\u001b[1;32m---> 10\u001b[1;33m \u001b[0mredcar\u001b[0m\u001b[1;33m.\u001b[0m\u001b[0m__updateSoftware\u001b[0m\u001b[1;33m(\u001b[0m\u001b[1;33m)\u001b[0m\u001b[1;33m\u001b[0m\u001b[0m\n\u001b[0m\u001b[0;32m     11\u001b[0m \u001b[1;31m#redcar.__updateSoftware()\u001b[0m\u001b[1;33m\u001b[0m\u001b[1;33m\u001b[0m\u001b[0m\n\u001b[0;32m     12\u001b[0m \u001b[1;31m#not accesible from object.\u001b[0m\u001b[1;33m\u001b[0m\u001b[1;33m\u001b[0m\u001b[0m\n",
      "\u001b[1;31mAttributeError\u001b[0m: 'Car' object has no attribute '__updateSoftware'"
     ]
    }
   ],
   "source": [
    "class Car:\n",
    "    def __init__(self):\n",
    "        self.__updateSoftware()\n",
    "    def drive(self):\n",
    "        print( 'driving')\n",
    "    def __updateSoftware(self):\n",
    "        print ('updating software')\n",
    "redcar = Car()\n",
    "redcar.drive()\n",
    "redcar.__updateSoftware()\n",
    "#redcar.__updateSoftware()  \n",
    "#not accesible from object."
   ]
  },
  {
   "cell_type": "markdown",
   "metadata": {},
   "source": [
    "Add, modify and remove attributes\n"
   ]
  },
  {
   "cell_type": "code",
   "execution_count": 18,
   "metadata": {},
   "outputs": [
    {
     "name": "stdout",
     "output_type": "stream",
     "text": [
      "Dir  ['__class__', '__delattr__', '__dict__', '__dir__', '__doc__', '__eq__', '__format__', '__ge__', '__getattribute__', '__gt__', '__hash__', '__init__', '__init_subclass__', '__le__', '__lt__', '__module__', '__ne__', '__new__', '__reduce__', '__reduce_ex__', '__repr__', '__setattr__', '__sizeof__', '__str__', '__subclasshook__', '__weakref__', 'addone', 'name', 'num1']\n",
      "farhan\n",
      "Dir  ['__class__', '__delattr__', '__dict__', '__dir__', '__doc__', '__eq__', '__format__', '__ge__', '__getattribute__', '__gt__', '__hash__', '__init__', '__init_subclass__', '__le__', '__lt__', '__module__', '__ne__', '__new__', '__reduce__', '__reduce_ex__', '__repr__', '__setattr__', '__sizeof__', '__str__', '__subclasshook__', '__weakref__', 'addone', 'name', 'num1']\n",
      "zarah\n",
      "Dir  ['__class__', '__delattr__', '__dict__', '__dir__', '__doc__', '__eq__', '__format__', '__ge__', '__getattribute__', '__gt__', '__hash__', '__init__', '__init_subclass__', '__le__', '__lt__', '__module__', '__ne__', '__new__', '__reduce__', '__reduce_ex__', '__repr__', '__setattr__', '__sizeof__', '__str__', '__subclasshook__', '__weakref__', 'addone', 'num1']\n"
     ]
    }
   ],
   "source": [
    "class Sample:\n",
    "    num1 = 0\n",
    "    def addone(self) :\n",
    "        self.num1 += 1\n",
    "        print(\"So far\",self.num1)\n",
    "obj1 = Sample()\n",
    "obj1.name = \"farhan\"\n",
    "print(\"Dir \", dir(obj1))\n",
    "print(obj1.name)\n",
    "print(\"Dir \", dir(obj1))\n",
    "obj1.name = \"zarah\"\n",
    "print(obj1.name)\n",
    "del(obj1.name)\n",
    "print(\"Dir \", dir(obj1))"
   ]
  },
  {
   "cell_type": "code",
   "execution_count": 19,
   "metadata": {},
   "outputs": [
    {
     "name": "stdout",
     "output_type": "stream",
     "text": [
      "True\n",
      "farhan\n",
      "Dir  ['__class__', '__delattr__', '__dict__', '__dir__', '__doc__', '__eq__', '__format__', '__ge__', '__getattribute__', '__gt__', '__hash__', '__init__', '__init_subclass__', '__le__', '__lt__', '__module__', '__ne__', '__new__', '__reduce__', '__reduce_ex__', '__repr__', '__setattr__', '__sizeof__', '__str__', '__subclasshook__', '__weakref__', 'addone', 'age', 'num1']\n"
     ]
    }
   ],
   "source": [
    "class Sample:\n",
    "    num1 = 0\n",
    "    def addone(self) :\n",
    "        self.num1 += 1\n",
    "        print(\"So far\",self.num1)\n",
    "obj1 = Sample()\n",
    "obj1.name = 'farhan'\n",
    "print(hasattr(obj1 ,'name'))\n",
    "print(getattr(obj1 ,'name'))\n",
    "setattr(obj1 ,'age',32)\n",
    "delattr(obj1 ,'name')\n",
    "print(\"Dir \", dir(obj1 ))\n"
   ]
  },
  {
   "cell_type": "markdown",
   "metadata": {},
   "source": [
    "Builtin class Attributes\n"
   ]
  },
  {
   "cell_type": "markdown",
   "metadata": {},
   "source": [
    "\n",
    "__dict__: Dictionary containing the class's namespace. \n",
    "\n",
    "__doc__: Class documentation string or none, if undefined. \n",
    "\n",
    "__name__: Class name. \n",
    "\n",
    "__module__: Module name in which the class is defined. This attribute is \"__main__\" in interactive mode. \n"
   ]
  },
  {
   "cell_type": "code",
   "execution_count": 2,
   "metadata": {},
   "outputs": [
    {
     "name": "stdout",
     "output_type": "stream",
     "text": [
      " My sample class’s doc string \n",
      "Sample\n",
      "__main__\n",
      "{'__module__': '__main__', '__doc__': ' My sample class’s doc string ', 'num1': 0, 'addone': <function Sample.addone at 0x0000012832F82510>, '__dict__': <attribute '__dict__' of 'Sample' objects>, '__weakref__': <attribute '__weakref__' of 'Sample' objects>}\n"
     ]
    }
   ],
   "source": [
    "class Sample:\n",
    "    \"\"\" My sample class’s doc string \"\"\"\n",
    "    num1 = 0\n",
    "    def addone(self) :\n",
    "        self.num1 += 1\n",
    "        print(\"So far\",self.num1)\n",
    "obj1 = Sample()\n",
    "obj1.name = \"farhan\"\n",
    "print(Sample.__doc__)\n",
    "print(Sample.__name__)\n",
    "print(Sample .__module__)\n",
    "print(Sample.__dict__)\n"
   ]
  },
  {
   "cell_type": "markdown",
   "metadata": {},
   "source": [
    "Method Resolution Order"
   ]
  },
  {
   "cell_type": "markdown",
   "metadata": {},
   "source": [
    "Classic classes used a simple MRO scheme: when looking up a method, base classes were searched using a simple depth-first left-to-right scheme. The first matching object found during this search would be returned. For example, consider these classes:"
   ]
  },
  {
   "cell_type": "code",
   "execution_count": 3,
   "metadata": {
    "collapsed": true
   },
   "outputs": [],
   "source": [
    "class A:\n",
    "    def save(self): \n",
    "        print(\"method of A\")\n",
    "\n",
    "class B(A): \n",
    "    pass\n",
    "\n",
    "class C:\n",
    "    def save(self): \n",
    "        print(\"method of c\")\n",
    "\n",
    "class D(B, C): \n",
    "    pass\n"
   ]
  },
  {
   "cell_type": "markdown",
   "metadata": {},
   "source": [
    "If we created an instance x of class D, the classic method resolution order would order the classes as D, B, A, C. Thus, a search for the method x.save() would produce A.save() (and not C.save())."
   ]
  },
  {
   "cell_type": "code",
   "execution_count": 22,
   "metadata": {},
   "outputs": [
    {
     "name": "stdout",
     "output_type": "stream",
     "text": [
      "method of A\n"
     ]
    }
   ],
   "source": [
    "x = D()\n",
    "x.save()"
   ]
  },
  {
   "cell_type": "markdown",
   "metadata": {},
   "source": [
    "One problem concerns method lookup under \"diamond inheritance.\" For example:"
   ]
  },
  {
   "cell_type": "code",
   "execution_count": 23,
   "metadata": {},
   "outputs": [
    {
     "name": "stdout",
     "output_type": "stream",
     "text": [
      "method of c\n"
     ]
    }
   ],
   "source": [
    "class A:\n",
    "    def save(self): \n",
    "        print(\"method of A\")\n",
    "\n",
    "class B(A): \n",
    "    pass\n",
    "\n",
    "class C(A):\n",
    "    def save(self): \n",
    "        print(\"method of c\")\n",
    "\n",
    "class D(B, C): \n",
    "    pass\n",
    "\n",
    "x = D()\n",
    "x.save()"
   ]
  },
  {
   "cell_type": "markdown",
   "metadata": {},
   "source": [
    "Here, class D inherits from B and C, both of which inherit from class A. Using the classic MRO, methods would be found by searching the classes in the order D, B, A, C, A. Thus, a reference to x.save() will call A.save() as before. However, this is unlikely what you want in this case! Since both B and C inherit from A, one can argue that the redefined method C.save() is actually the method that you want to call"
   ]
  },
  {
   "cell_type": "code",
   "execution_count": null,
   "metadata": {
    "collapsed": true
   },
   "outputs": [],
   "source": []
  }
 ],
 "metadata": {
  "kernelspec": {
   "display_name": "Python 3",
   "language": "python",
   "name": "python3"
  },
  "language_info": {
   "codemirror_mode": {
    "name": "ipython",
    "version": 3
   },
   "file_extension": ".py",
   "mimetype": "text/x-python",
   "name": "python",
   "nbconvert_exporter": "python",
   "pygments_lexer": "ipython3",
   "version": "3.6.1"
  },
  "widgets": {
   "application/vnd.jupyter.widget-state+json": {
    "state": {},
    "version_major": 1,
    "version_minor": 0
   }
  }
 },
 "nbformat": 4,
 "nbformat_minor": 2
}
