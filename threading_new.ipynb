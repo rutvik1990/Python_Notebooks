{
 "cells": [
  {
   "cell_type": "code",
   "execution_count": 2,
   "metadata": {
    "collapsed": true
   },
   "outputs": [],
   "source": [
    "import threading\n",
    "import time\n",
    "\n",
    "def sample(sec, name):\n",
    "    print('Hi, I am {}. Going to sleep for 10 seconds \\n'.format(name))\n",
    "    time.sleep(sec)\n",
    "    print('{} has woken up from sleep \\n'.format(name))\n",
    "     \n",
    "t = threading.Thread(target = sample, name = 'thread1', args =(10, 'thread1'))\n"
   ]
  },
  {
   "cell_type": "code",
   "execution_count": 3,
   "metadata": {},
   "outputs": [
    {
     "name": "stdout",
     "output_type": "stream",
     "text": [
      "Hi, I am thread1. Going to sleep for 10 seconds \n",
      "\n",
      "thread1 has woken up from sleep \n",
      "\n"
     ]
    }
   ],
   "source": [
    "import threading\n",
    "import time\n",
    "\n",
    "def sample(sec, name):\n",
    "    print('Hi, I am {}. Going to sleep for 10 seconds \\n'.format(name))\n",
    "    time.sleep(sec)\n",
    "    print('{} has woken up from sleep \\n'.format(name))\n",
    "     \n",
    "t = threading.Thread(target = sample, name = 'thread1', args =(10, 'thread1'))\n",
    "t.start()"
   ]
  },
  {
   "cell_type": "code",
   "execution_count": 4,
   "metadata": {},
   "outputs": [
    {
     "name": "stdout",
     "output_type": "stream",
     "text": [
      "Hi, I am thread1. Going to sleep for 10 seconds \n",
      "End of Program – Blast Off\n",
      "\n",
      "thread1 has woken up from sleep \n",
      "\n"
     ]
    }
   ],
   "source": [
    "import threading\n",
    "import time\n",
    "def sample(sec, name):\n",
    "    print('Hi, I am {}. Going to sleep for 10 seconds \\n'.format(name))\n",
    "    time.sleep(sec)\n",
    "    print('{} has woken up from sleep \\n'.format(name))\n",
    "t = threading.Thread(target = sample, name = 'thread1', args =(10, 'thread1'))\n",
    "t.start()\n",
    "print(\"End of Program – Blast Off\")"
   ]
  },
  {
   "cell_type": "code",
   "execution_count": 7,
   "metadata": {},
   "outputs": [
    {
     "name": "stdout",
     "output_type": "stream",
     "text": [
      "execution of  function 1 has started \n",
      "\n",
      "Hi, I am 1. Going to sleep for 10 seconds \n",
      "\n",
      "1 has woken up from sleep \n",
      "\n",
      "execution of  function 2 has started \n",
      "\n",
      "Hi, I am 2. Going to sleep for 10 seconds \n",
      "\n",
      "2 has woken up from sleep \n",
      "\n",
      "execution of  function 3 has started \n",
      "\n",
      "Hi, I am 3. Going to sleep for 10 seconds \n",
      "\n",
      "3 has woken up from sleep \n",
      "\n",
      "execution of  function 4 has started \n",
      "\n",
      "Hi, I am 4. Going to sleep for 10 seconds \n",
      "\n",
      "4 has woken up from sleep \n",
      "\n",
      "execution of  function 5 has started \n",
      "\n",
      "Hi, I am 5. Going to sleep for 10 seconds \n",
      "\n",
      "5 has woken up from sleep \n",
      "\n",
      "time taken: 50.004040002822876\n"
     ]
    }
   ],
   "source": [
    "import time\n",
    "def sample(sec, name):\n",
    "    print('Hi, I am {}. Going to sleep for 10 seconds \\n'.format(name))\n",
    "    time.sleep(sec)\n",
    "    print('{} has woken up from sleep \\n'.format(name))\n",
    "\n",
    "start = time.time()\n",
    "for i in range(1,6):\n",
    "    print('execution of  function {} has started \\n'.format(i))\n",
    "    x = sample(10, i)\n",
    "end  = time.time()\n",
    "\n",
    "print('time taken: {}'.format(end - start))\n",
    "\n"
   ]
  },
  {
   "cell_type": "code",
   "execution_count": 10,
   "metadata": {},
   "outputs": [
    {
     "name": "stdout",
     "output_type": "stream",
     "text": [
      "Hi, I am thread1. Going to sleep for 10 seconds \n",
      "\n",
      "Hi, I am thread2. Going to sleep for 10 seconds \n",
      "\n",
      "Hi, I am thread3. Going to sleep for 10 seconds \n",
      "\n",
      "Hi, I am thread4. Going to sleep for 10 seconds \n",
      "Hi, I am thread5. Going to sleep for 10 seconds \n",
      "\n",
      "\n",
      "thread1 has woken up from sleep \n",
      "\n",
      "thread2 has woken up from sleep \n",
      "\n",
      "thread3 has woken up from sleep \n",
      "\n",
      "thread4 has woken up from sleep \n",
      "\n",
      "thread5 has woken up from sleep \n",
      "\n",
      "time is 10.022944211959839\n"
     ]
    }
   ],
   "source": [
    "import threading\n",
    "import time\n",
    "\n",
    "def sample(sec, name):\n",
    "    print('Hi, I am {}. Going to sleep for 10 seconds \\n'.format(name))\n",
    "    time.sleep(sec)\n",
    "    print('{} has woken up from sleep \\n'.format(name))\n",
    "\n",
    "    \n",
    "start = time.time()\n",
    "threads = []\n",
    "\n",
    "for i in range(1,6):\n",
    "    t = threading.Thread(target = sample, name = 'thread{}'.format(i), args =(10,'thread{}'.format(i) ) )\n",
    "    threads.append(t)\n",
    "    t.start()\n",
    "    \n",
    "for i in threads:\n",
    "    i.join()\n",
    "    \n",
    "end = time.time()\n",
    "\n",
    "print('time is {}'.format(end - start))"
   ]
  },
  {
   "cell_type": "code",
   "execution_count": 11,
   "metadata": {},
   "outputs": [
    {
     "name": "stdout",
     "output_type": "stream",
     "text": [
      "calculate square numbers\n",
      "square: 4\n",
      "square: 25\n",
      "square: 9\n",
      "square: 49\n",
      "calculate cube of numbers\n",
      "cube: 8\n",
      "cube: 125\n",
      "cube: 27\n",
      "cube: 343\n",
      "done in :  8.008578062057495\n"
     ]
    }
   ],
   "source": [
    "import time\n",
    "import threading\n",
    "\n",
    "def calc_square(numbers):\n",
    "    print(\"calculate square numbers\")\n",
    "    for n in numbers:\n",
    "        time.sleep(1)\n",
    "        print('square:',n*n)\n",
    "\n",
    "def calc_cube(numbers):\n",
    "    print(\"calculate cube of numbers\")\n",
    "    for n in numbers:\n",
    "        time.sleep(1)\n",
    "        print('cube:',n*n*n)\n",
    "arr = [2,5,3,7]\n",
    "\n",
    "start = time.time()\n",
    "\n",
    "calc_square(arr)\n",
    "calc_cube(arr)\n",
    "    \n",
    "end = time.time()\n",
    "print(\"done in : \",end - start)\n"
   ]
  },
  {
   "cell_type": "code",
   "execution_count": 12,
   "metadata": {},
   "outputs": [
    {
     "name": "stdout",
     "output_type": "stream",
     "text": [
      "calculate square numbers\n",
      "calculate cube of numbers\n",
      "square: 4\n",
      "cube: 8\n",
      "square: 25\n",
      "cube: 125\n",
      "square: 9\n",
      "cube: 27\n",
      "square: 49\n",
      "cube: 343done in : \n",
      " 4.015900611877441\n"
     ]
    }
   ],
   "source": [
    "import time\n",
    "import threading\n",
    "\n",
    "def calc_sq (numbers):\n",
    "    print(\"calculate square numbers\")\n",
    "    for n in numbers:\n",
    "        time.sleep(1)\n",
    "        print('square:',n*n)\n",
    "\n",
    "def calc_cube(numbers):\n",
    "    print(\"calculate cube of numbers\")\n",
    "    for n in numbers:\n",
    "        time.sleep(1)\n",
    "        print('cube:',n*n*n)\n",
    "arr = [2,5,3,7]\n",
    "start = time.time()\n",
    "t1= threading.Thread(target=calc_sq, args=(arr,))\n",
    "t2= threading.Thread(target=calc_cube, args=(arr,))\n",
    "t1.start()\n",
    "t2.start()\n",
    "t1.join()\n",
    "t2.join()\n",
    "end = time.time()\n",
    "print(\"done in : \",end - start)\n"
   ]
  },
  {
   "cell_type": "code",
   "execution_count": 14,
   "metadata": {},
   "outputs": [
    {
     "name": "stdout",
     "output_type": "stream",
     "text": [
      "Hi, I am thread1. Going to sleep for 10 seconds \n",
      "Hi, I am thread2. Going to sleep for 10 seconds \n",
      "Hi, I am thread3. Going to sleep for 10 seconds \n",
      "active counts\n",
      "\n",
      "\n",
      "Hi, I am thread4. Going to sleep for 10 seconds \n",
      "Hi, I am thread5. Going to sleep for 10 seconds \n",
      "\n",
      "\n",
      " 6\n",
      "active counts 7\n",
      "active counts 8\n",
      "active counts 9\n",
      "active counts 10\n",
      "thread1 has woken up from sleep \n",
      "\n",
      "thread2 has woken up from sleep \n",
      "\n",
      "thread3 has woken up from sleep \n",
      "\n",
      "thread4 has woken up from sleep \n",
      "\n",
      "thread5 has woken up from sleep \n",
      "\n",
      "time is 10.023377180099487\n"
     ]
    }
   ],
   "source": [
    "import threading\n",
    "import time\n",
    "def sample(sec, name):\n",
    "    print('Hi, I am {}. Going to sleep for 10 seconds \\n'.format(name))\n",
    "    time.sleep(sec)\n",
    "    print('{} has woken up from sleep \\n'.format(name))\n",
    "start = time.time()\n",
    "threads = []\n",
    "for i in range(1,6):\n",
    "    t = threading.Thread(target = sample, name = 'thread{}'.format(i), \t\t\t\targs =(10,'thread{}'.format(i) ) )\n",
    "    threads.append(t)\n",
    "    t.start()\n",
    "    print(\"active counts\",threading.active_count())\n",
    "for i in threads:\n",
    "    i.join()\n",
    "end = time.time()\n",
    "print('time is {}'.format(end - start))\n"
   ]
  },
  {
   "cell_type": "code",
   "execution_count": null,
   "metadata": {
    "collapsed": true
   },
   "outputs": [],
   "source": [
    "import threading\n",
    "import time\n",
    "main_thread = threading.enumerate()[0]\n",
    "print (main_thread.isDaemon())\n",
    "def sleeper(n, name):\n",
    "    print('Hi, I am {}. Going to sleep for 5 seconds \\n'.format(name))\n",
    "    time.sleep(n)\n",
    "    print('{} has woken up from sleep \\n'.format(name))\n",
    "     \n",
    "t = threading.Thread(target = sleeper, name = 'thread1', args =(5, 'thread1'))\n",
    "\n",
    "t.start()\n",
    "t.join()\n",
    "\n",
    "print(\"End of Program – Blast Off\")\n"
   ]
  },
  {
   "cell_type": "code",
   "execution_count": 3,
   "metadata": {},
   "outputs": [
    {
     "name": "stdout",
     "output_type": "stream",
     "text": [
      "False\n",
      "False\n",
      "Hi, I am thread1. Going to sleep for 5 seconds \n",
      "\n",
      "thread1 has woken up from sleep \n",
      "End of Program – Blast Off\n",
      "\n"
     ]
    }
   ],
   "source": [
    "import threading\n",
    "import time\n",
    "main_thread = threading.enumerate()[0]\n",
    "print (main_thread.isDaemon())\n",
    "def sleeper(n, name):\n",
    "    print('Hi, I am {}. Going to sleep for 5 seconds \\n'.format(name))\n",
    "    time.sleep(n)\n",
    "    print('{} has woken up from sleep \\n'.format(name))\n",
    "     \n",
    "t = threading.Thread(target = sleeper, name = 'thread1', args =(5, 'thread1'))\n",
    "\n",
    "t.start()\n",
    "print(t.isDaemon())\n",
    "t.join()\n",
    "\n",
    "print(\"End of Program – Blast Off\")"
   ]
  },
  {
   "cell_type": "code",
   "execution_count": null,
   "metadata": {
    "collapsed": true
   },
   "outputs": [],
   "source": [
    "import threading\n",
    "import time\n",
    "def sleeper(n, name):\n",
    "    print('Hi, I am {}. Going to sleep for 5 seconds \\n'.format(name))\n",
    "    time.sleep(n)\n",
    "    print('{} has woken up from sleep \\n'.format(name))\n",
    "     \n",
    "t = threading.Thread(target = sleeper, name = 'thread1', args =(5, 'thread1'))\n",
    "\n",
    "\n",
    "t.setDaemon(True)\n",
    "t.start()\n",
    "print (t.isDaemon())\n",
    "t.join()\n",
    "print(\"End of Program – Blast Off\")\n"
   ]
  },
  {
   "cell_type": "code",
   "execution_count": null,
   "metadata": {
    "collapsed": true
   },
   "outputs": [],
   "source": [
    "import threading\n",
    "import time\n",
    "\n",
    "total = 4\n",
    "\n",
    "def creates_items():\n",
    "    global total\n",
    "    for i in range(10):\n",
    "        time.sleep(2)\n",
    "        print('added item')\n",
    "        total += 1\n",
    "    print('creation is done')\n",
    "\n",
    "\n",
    "def creates_items_2():\n",
    "    global total\n",
    "    for i in range(7):\n",
    "        time.sleep(1)\n",
    "        print('added item')\n",
    "        total += 1\n",
    "    print('creation is done')\n",
    "\n",
    "\n",
    "def limits_items():\n",
    "    \n",
    "    #print('finished sleeping')\n",
    "    \n",
    "    global total\n",
    "    while True:\n",
    "        if total > 5:\n",
    "\n",
    "            print ('overload')\n",
    "            total -= 3\n",
    "            print('subtracted 3')\n",
    "        else:\n",
    "            time.sleep(1)\n",
    "            print('waiting')\n",
    "\n",
    "\n",
    "creator1 = threading.Thread(target  = creates_items)\n",
    "creator2 = threading.Thread(target = creates_items_2)\n",
    "limitor = threading.Thread(target = limits_items, daemon = True)\n",
    "\n",
    "print(limitor.isDaemon())\n",
    "\n",
    "\n",
    "creator1.start()\n",
    "creator2.start()\n",
    "limitor.start()\n",
    "\n",
    "\n",
    "creator1.join()\n",
    "creator2.join()\n",
    "\n",
    "\n",
    "\n",
    "\n",
    "print('our ending value of total is' , total)"
   ]
  },
  {
   "cell_type": "code",
   "execution_count": 10,
   "metadata": {},
   "outputs": [
    {
     "name": "stdout",
     "output_type": "stream",
     "text": [
      "thread is created when start() is called with name thread1\n",
      "thread is created when start() is called with name thread2\n",
      "thread is created when start() is called with name thread3\n",
      "thread is created when start() is called with name thread4\n",
      "thread is created when start() is called with name thread5\n",
      "thread has stoppedthread1\n",
      "thread has stoppedthread2\n",
      "thread has stoppedthread3\n",
      "thread has stoppedthread4\n",
      "thread has stoppedthread5\n",
      "end of main thread\n"
     ]
    }
   ],
   "source": [
    "#overriding Run\n",
    "import time\n",
    "class ThreadingClass(threading.Thread):\n",
    "    def run(self):\n",
    "        print(\"\"\"thread is created when start() is called with name {}\"\"\".format(self.getName()))\n",
    "        time.sleep(5)\n",
    "        print(\"\"\"thread has stopped {}\"\"\".format(self.getName()))\n",
    "def printing(num):\n",
    "    print(\"example thread {}\".format(num))\n",
    "allthreads = []\n",
    "for i in range(1,6):\n",
    "    t = ThreadingClass(target = printing , name = \"thread{}\".format(i), args = (i,))\n",
    "    t.start()\n",
    "    allthreads.append(t)\n",
    "\n",
    "for i in allthreads:\n",
    "    i.join()\n",
    "print(\"end of main thread\")"
   ]
  },
  {
   "cell_type": "code",
   "execution_count": 14,
   "metadata": {},
   "outputs": [
    {
     "name": "stdout",
     "output_type": "stream",
     "text": [
      "Starting Thread-1\n",
      "Starting Thread-2\n",
      "Thread-1 Mon Jul 23 21:25:21 2018\n",
      "Exiting Thread-1\n",
      "Thread-2 Mon Jul 23 21:25:21 2018\n",
      "Thread-2 Exiting Main ThreadMon Jul 23 21:25:26 2018\n",
      "\n",
      "Exiting Thread-2\n"
     ]
    }
   ],
   "source": [
    "import threading\n",
    "import time\n",
    "exitFlag = 0\n",
    "class myThread (threading.Thread):\n",
    "    def __init__(self, threadID, name, counter):\n",
    "        threading.Thread.__init__(self)\n",
    "        self.threadID = threadID\n",
    "        self.name = name\n",
    "        self.counter = counter\n",
    "    def run(self):\n",
    "        print (\"Starting \" + self.name)\n",
    "        print_time(self.name, 5, self.counter)\n",
    "        print (\"Exiting \" + self.name)\n",
    "def print_time(threadName, delay, counter):\n",
    "    while counter:\n",
    "        time.sleep(delay)\n",
    "        print (threadName, time.ctime())\n",
    "        counter -= 1\n",
    "thread1 = myThread(1, \"Thread-1\", 1)\n",
    "thread2 = myThread(2, \"Thread-2\", 2)\n",
    "thread1.start()\n",
    "thread2.start()\n",
    "thread1.join()\n",
    "thread2.join()\n",
    "print (\"Exiting Main Thread\")\n"
   ]
  },
  {
   "cell_type": "code",
   "execution_count": 19,
   "metadata": {},
   "outputs": [
    {
     "name": "stdout",
     "output_type": "stream",
     "text": [
      "0\n"
     ]
    }
   ],
   "source": [
    "import threading\n",
    "g = 0\n",
    "\n",
    "def add_four():\n",
    "    global g\n",
    "    for i in range(1000):\n",
    "        g += 4\n",
    "    \n",
    "def add_two():\n",
    "    global g\n",
    "    for i in range(1000):\n",
    "        g += 2\n",
    "    \n",
    "def sub_five():\n",
    "    global g\n",
    "    for i in range(1000):\n",
    "        g -= 5\n",
    "    \n",
    "def sub_one():\n",
    "    global g\n",
    "    for i in range(1000):\n",
    "        g -= 1\n",
    "    \n",
    "threads = []\n",
    "for func in [add_four, add_two,sub_five,sub_one]:\n",
    "    threads.append(threading.Thread(target=func))\n",
    "    threads[-1].start()\n",
    "\n",
    "for thread in threads:\n",
    "    thread.join()\n",
    "\n",
    "print(g)\n"
   ]
  },
  {
   "cell_type": "code",
   "execution_count": 17,
   "metadata": {},
   "outputs": [
    {
     "name": "stdout",
     "output_type": "stream",
     "text": [
      "0\n"
     ]
    }
   ],
   "source": [
    "import threading\n",
    "lock = threading.Lock()\n",
    "g = 0\n",
    "\n",
    "def add_four():\n",
    "    global g\n",
    "    \n",
    "    lock.acquire()\n",
    "    for i in range(1000):\n",
    "        g += 4\n",
    "    lock.release()\n",
    "\n",
    "def add_two():\n",
    "    global g\n",
    "    lock.acquire()\n",
    "    for i in range(1000):\n",
    "        g += 2\n",
    "    lock.release()\n",
    "\n",
    "def sub_five():\n",
    "    global g\n",
    "    lock.acquire()\n",
    "    for i in range(1000):\n",
    "        g -= 5\n",
    "    lock.release()\n",
    "\n",
    "def sub_one():\n",
    "    global g\n",
    "    lock.acquire()\n",
    "    for i in range(1000):\n",
    "        g -= 1\n",
    "    lock.release()\n",
    "\n",
    "threads = []\n",
    "for func in [add_four, add_two,sub_five,sub_one]:\n",
    "    threads.append(threading.Thread(target=func))\n",
    "    threads[-1].start()\n",
    "\n",
    "for thread in threads:\n",
    "    thread.join()\n",
    "\n",
    "print(g)"
   ]
  },
  {
   "cell_type": "code",
   "execution_count": null,
   "metadata": {
    "collapsed": true
   },
   "outputs": [],
   "source": []
  }
 ],
 "metadata": {
  "kernelspec": {
   "display_name": "Python 3",
   "language": "python",
   "name": "python3"
  },
  "language_info": {
   "codemirror_mode": {
    "name": "ipython",
    "version": 3
   },
   "file_extension": ".py",
   "mimetype": "text/x-python",
   "name": "python",
   "nbconvert_exporter": "python",
   "pygments_lexer": "ipython3",
   "version": "3.6.1"
  }
 },
 "nbformat": 4,
 "nbformat_minor": 2
}
