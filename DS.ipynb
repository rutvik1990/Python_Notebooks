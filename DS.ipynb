{
 "cells": [
  {
   "cell_type": "markdown",
   "metadata": {},
   "source": [
    "# Stack"
   ]
  },
  {
   "cell_type": "code",
   "execution_count": 2,
   "metadata": {},
   "outputs": [
    {
     "name": "stdout",
     "output_type": "stream",
     "text": [
      "stack is created\n",
      "choice\n",
      "\n",
      "1. for Push\n",
      "2. for Pop\n",
      "3. for peek\n",
      "4. isEmpty\n",
      "5. size\n",
      "6. Exit \n",
      "\n",
      "enter your choice\n",
      "2\n",
      "element removed None\n",
      "stack after pop operation [None, None, None, None, None, None, None, None, None]\n",
      "enter your choice\n",
      "6\n"
     ]
    }
   ],
   "source": [
    "class Stack:\n",
    "    def __init__(self):\n",
    "        self.items = [None for i in range(10)]\n",
    "        print(\"stack is created\")\n",
    "    def isEmpty(self):\n",
    "        if self.items == []:\n",
    "            return True\n",
    "        else:\n",
    "            return False\n",
    "    def push(self,element):\n",
    "        self.items.append(element)\n",
    "        print(\"element succesfully added\")\n",
    "        print(\"stack after push operation\", self.items)\n",
    "    def pop(self):\n",
    "        if(self.isEmpty()):\n",
    "            print(\"stack is empty\")\n",
    "        else:\n",
    "            self.l_element = self.items[-1]\n",
    "            self.items.pop()\n",
    "            print(\"element removed\",self.l_element)\n",
    "            print(\"stack after pop operation\", self.items)\n",
    "    def peek(self):\n",
    "        if(self.isEmpty()):\n",
    "            print(\"stack is empty\")\n",
    "        else:\n",
    "            self.l_element = self.items[-1]\n",
    "            print(\"TOS\", self.l_element)\n",
    "    def size(self):\n",
    "        print(\"Total elements in stack\",len(self.items))    \n",
    "# taking input\n",
    "stk1 = Stack()\n",
    "print(\"\"\"choice\\n\n",
    "1. for Push\n",
    "2. for Pop\n",
    "3. for peek\n",
    "4. isEmpty\n",
    "5. size\n",
    "6. Exit \\n\"\"\")\n",
    "while True:\n",
    "    choice = int(input(\"\"\"enter your choice\\n\"\"\"))\n",
    "    if choice == 1:\n",
    "        stk1.push(input(\"enter the value to be pushed\\n\"))\n",
    "        continue\n",
    "    elif choice == 2:\n",
    "        stk1.pop()\n",
    "        continue\n",
    "    elif choice == 3:\n",
    "        stk1.peek()\n",
    "        continue\n",
    "    elif choice == 4:\n",
    "        if stk1.isEmpty():\n",
    "            print(\"stack is empty\")\n",
    "        else:\n",
    "            print(\"stack is not empty\")\n",
    "        continue\n",
    "    elif choice == 5:\n",
    "        stk1.size()\n",
    "        continue\n",
    "    elif choice == 6 :\n",
    "        break\n",
    "\n"
   ]
  },
  {
   "cell_type": "markdown",
   "metadata": {},
   "source": [
    "# Queue"
   ]
  },
  {
   "cell_type": "code",
   "execution_count": null,
   "metadata": {},
   "outputs": [],
   "source": [
    "class Queue:\n",
    "    def __init__(self):\n",
    "        self.items = []\n",
    "        print(\"queue is created\")\n",
    "\n",
    "    def isEmpty(self):\n",
    "        return self.items == []\n",
    "\n",
    "    def enqueue(self, item):\n",
    "        self.items.insert(0,item)\n",
    "        print(\"element succesfully added\")\n",
    "        print(\"Queue after enqueue \",self.items)\n",
    "\n",
    "    def dequeue(self):\n",
    "        if(self.isEmpty()):\n",
    "            print(\"Queue is empty\")\n",
    "        else:\n",
    "            self.l_element = self.items[-1]\n",
    "            self.items.pop()\n",
    "            print(\"element removed\",self.l_element)\n",
    "            print(\"Queue after dequeue\", self.items)\n",
    "    def size(self):\n",
    "        print(\"Total elements in queue\",len(self.items))\n",
    "# taking input\n",
    "qu1 = Queue()\n",
    "print(\"\"\"choice\\n\n",
    "1. for enqueue\n",
    "2. for dequeue\n",
    "3. isEmpty\n",
    "4. size\n",
    "5. Exit \\n\"\"\")\n",
    "while True:\n",
    "    choice = int(input(\"\"\"enter your choice\\n\"\"\"))\n",
    "    if choice == 1:\n",
    "        qu1.enqueue(input(\"enter the value to be entered \\n\"))\n",
    "        continue\n",
    "    elif choice == 2:\n",
    "        qu1.dequeue()\n",
    "        continue\n",
    "    elif choice == 3:\n",
    "        if qu1.isEmpty():\n",
    "            print(\"queue is empty\")\n",
    "        else:\n",
    "            print(\"queue is not empty\")\n",
    "        continue\n",
    "    elif choice == 4:\n",
    "        qu1.size()\n",
    "        continue\n",
    "    elif choice == 5 :\n",
    "        break\n",
    "\n"
   ]
  },
  {
   "cell_type": "markdown",
   "metadata": {},
   "source": [
    "# Dequeue"
   ]
  },
  {
   "cell_type": "code",
   "execution_count": null,
   "metadata": {
    "collapsed": true
   },
   "outputs": [],
   "source": [
    "class Queue:\n",
    "    def __init__(self):\n",
    "        self.items = []\n",
    "\n",
    "    def isEmpty(self):\n",
    "        return self.items == []\n",
    "\n",
    "    def enqueue_ar(self, item):\n",
    "        self.items.insert(0,item)\n",
    "        print(\"element succesfully added\")\n",
    "        print(\"Queue after enqueue \",self.items)\n",
    "    \n",
    "    def enqueue_af(self, item):\n",
    "        self.items.append(item)\n",
    "        print(\"element succesfully added\")\n",
    "        print(\"Queue after enqueue \",self.items)\n",
    "\n",
    "    def dequeue_rf(self):\n",
    "        if(self.isEmpty()):\n",
    "            print(\"Queue is empty\")\n",
    "        else:\n",
    "            self.l_element = self.items[-1]\n",
    "            self.items.pop()\n",
    "            print(\"element removed\",self.l_element)\n",
    "            print(\"Queue after dequeue\", self.items)\n",
    "    def dequeue_rr(self):\n",
    "        if(self.isEmpty()):\n",
    "            print(\"Queue is empty\")\n",
    "        else:\n",
    "            self.l_element = self.items[0]\n",
    "            self.items.pop(0)\n",
    "            print(\"element removed\",self.l_element)\n",
    "            print(\"Queue after dequeue\", self.items)\n",
    "    \n",
    "    def size(self):\n",
    "        print(\"Total elements in queue\",len(self.items))\n",
    "# taking input\n",
    "qu1 = Queue()\n",
    "print(\"\"\"choice\\n\n",
    "1. for enqueue at front\n",
    "2. for enqueue at rear\n",
    "3. for dequeue at front\n",
    "4. for dequeue at rear\n",
    "5. isEmpty\n",
    "6. size\n",
    "7. Exit \\n\"\"\")\n",
    "while True:\n",
    "    choice = int(input(\"\"\"enter your choice\\n\"\"\"))\n",
    "    if choice == 1:\n",
    "        qu1.enqueue_af(input(\"enter the value to be entered \\n\"))\n",
    "        continue\n",
    "    elif choice == 2:\n",
    "        qu1.enqueue_ar(input(\"enter the value to be entered \\n\"))\n",
    "        continue\n",
    "    elif choice == 3:\n",
    "        qu1.dequeue_rf()\n",
    "        continue\n",
    "    elif choice == 4:\n",
    "        qu1.dequeue_rr()\n",
    "        continue\n",
    "        \n",
    "    elif choice == 5:\n",
    "        if qu1.isEmpty():\n",
    "            print(\"queue is empty\")\n",
    "        else:\n",
    "            print(\"queue is not empty\")\n",
    "        continue\n",
    "    elif choice == 6:\n",
    "        qu1.size()\n",
    "        continue\n",
    "    elif choice == 7 :\n",
    "        break\n",
    "\n"
   ]
  },
  {
   "cell_type": "markdown",
   "metadata": {},
   "source": [
    "# Linear Search"
   ]
  },
  {
   "cell_type": "code",
   "execution_count": 1,
   "metadata": {},
   "outputs": [
    {
     "name": "stdout",
     "output_type": "stream",
     "text": [
      "found at position 8\n"
     ]
    }
   ],
   "source": [
    "def sequentialSearch(alist, item):\n",
    "    for i in range(len(alist)):\n",
    "        if alist[i] == item:\n",
    "            return i\n",
    "    else:\n",
    "        return -1\n",
    "\n",
    "testlist = [1, 2, 32, 8, 17, 19, 42, 13, 0]\n",
    "a = sequentialSearch(testlist, 13)\n",
    "if a == -1:\n",
    "    print(\"element not found\")\n",
    "else:\n",
    "    print(\"found at position\",a+1)\n"
   ]
  },
  {
   "cell_type": "markdown",
   "metadata": {},
   "source": [
    "# Binary Search"
   ]
  },
  {
   "cell_type": "code",
   "execution_count": 2,
   "metadata": {},
   "outputs": [
    {
     "name": "stdout",
     "output_type": "stream",
     "text": [
      "False\n",
      "True\n"
     ]
    }
   ],
   "source": [
    "def binarySearch(alist, item):\n",
    "    first = 0\n",
    "    last = len(alist)-1\n",
    "    found = False\n",
    "    while first<=last and not found:\n",
    "        midpoint = (first + last)//2\n",
    "        if alist[midpoint] == item:\n",
    "            found = True\n",
    "        else:\n",
    "            if item < alist[midpoint]:\n",
    "                last = midpoint-1\n",
    "            else:\n",
    "                first = midpoint+1\n",
    "    return found\n",
    "testlist = [0, 1, 2, 8, 13, 17, 19, 32, 42]\n",
    "print(binarySearch(testlist, 3))\n",
    "print(binarySearch(testlist, 13))\n"
   ]
  },
  {
   "cell_type": "markdown",
   "metadata": {},
   "source": [
    "# Bubble Short"
   ]
  },
  {
   "cell_type": "code",
   "execution_count": 9,
   "metadata": {},
   "outputs": [
    {
     "name": "stdout",
     "output_type": "stream",
     "text": [
      "[26, 54, 93, 17, 77, 31, 44, 55, 20]\n",
      "[26, 54, 93, 17, 77, 31, 44, 55, 20]\n",
      "[26, 54, 17, 93, 77, 31, 44, 55, 20]\n",
      "[26, 54, 17, 77, 93, 31, 44, 55, 20]\n",
      "[26, 54, 17, 77, 31, 93, 44, 55, 20]\n",
      "[26, 54, 17, 77, 31, 44, 93, 55, 20]\n",
      "[26, 54, 17, 77, 31, 44, 55, 93, 20]\n",
      "[26, 54, 17, 77, 31, 44, 55, 20, 93]\n",
      "[26, 54, 17, 77, 31, 44, 55, 20, 93]\n",
      "[26, 17, 54, 77, 31, 44, 55, 20, 93]\n",
      "[26, 17, 54, 77, 31, 44, 55, 20, 93]\n",
      "[26, 17, 54, 31, 77, 44, 55, 20, 93]\n",
      "[26, 17, 54, 31, 44, 77, 55, 20, 93]\n",
      "[26, 17, 54, 31, 44, 55, 77, 20, 93]\n",
      "[26, 17, 54, 31, 44, 55, 20, 77, 93]\n",
      "[17, 26, 54, 31, 44, 55, 20, 77, 93]\n",
      "[17, 26, 54, 31, 44, 55, 20, 77, 93]\n",
      "[17, 26, 31, 54, 44, 55, 20, 77, 93]\n",
      "[17, 26, 31, 44, 54, 55, 20, 77, 93]\n",
      "[17, 26, 31, 44, 54, 55, 20, 77, 93]\n",
      "[17, 26, 31, 44, 54, 20, 55, 77, 93]\n",
      "[17, 26, 31, 44, 54, 20, 55, 77, 93]\n",
      "[17, 26, 31, 44, 54, 20, 55, 77, 93]\n",
      "[17, 26, 31, 44, 54, 20, 55, 77, 93]\n",
      "[17, 26, 31, 44, 54, 20, 55, 77, 93]\n",
      "[17, 26, 31, 44, 20, 54, 55, 77, 93]\n",
      "[17, 26, 31, 44, 20, 54, 55, 77, 93]\n",
      "[17, 26, 31, 44, 20, 54, 55, 77, 93]\n",
      "[17, 26, 31, 44, 20, 54, 55, 77, 93]\n",
      "[17, 26, 31, 20, 44, 54, 55, 77, 93]\n",
      "[17, 26, 31, 20, 44, 54, 55, 77, 93]\n",
      "[17, 26, 31, 20, 44, 54, 55, 77, 93]\n",
      "[17, 26, 20, 31, 44, 54, 55, 77, 93]\n",
      "[17, 26, 20, 31, 44, 54, 55, 77, 93]\n",
      "[17, 20, 26, 31, 44, 54, 55, 77, 93]\n",
      "[17, 20, 26, 31, 44, 54, 55, 77, 93]\n",
      "[17, 20, 26, 31, 44, 54, 55, 77, 93]\n"
     ]
    }
   ],
   "source": [
    "def bubbleSort(alist):\n",
    "    for i in range(0,len(alist),1):\n",
    "        for j in range(0,len(alist)-i-1,1):\n",
    "            if alist[j]>alist[j+1]:\n",
    "                alist[j],alist[j+1] = alist[j+1],alist[j]\n",
    "            print(alist)\n",
    "alist = [54,26,93,17,77,31,44,55,20]\n",
    "bubbleSort(alist)\n",
    "print(alist)\n"
   ]
  },
  {
   "cell_type": "code",
   "execution_count": 10,
   "metadata": {},
   "outputs": [
    {
     "name": "stdout",
     "output_type": "stream",
     "text": [
      "[26, 54, 93, 17, 77, 31, 44, 55, 20]\n",
      "[26, 54, 17, 93, 77, 31, 44, 55, 20]\n",
      "[26, 54, 17, 77, 93, 31, 44, 55, 20]\n",
      "[26, 54, 17, 77, 31, 93, 44, 55, 20]\n",
      "[26, 54, 17, 77, 31, 44, 93, 55, 20]\n",
      "[26, 54, 17, 77, 31, 44, 55, 93, 20]\n",
      "[26, 54, 17, 77, 31, 44, 55, 20, 93]\n",
      "[26, 17, 54, 77, 31, 44, 55, 20, 93]\n",
      "[26, 17, 54, 31, 77, 44, 55, 20, 93]\n",
      "[26, 17, 54, 31, 44, 77, 55, 20, 93]\n",
      "[26, 17, 54, 31, 44, 55, 77, 20, 93]\n",
      "[26, 17, 54, 31, 44, 55, 20, 77, 93]\n",
      "[17, 26, 54, 31, 44, 55, 20, 77, 93]\n",
      "[17, 26, 31, 54, 44, 55, 20, 77, 93]\n",
      "[17, 26, 31, 44, 54, 55, 20, 77, 93]\n",
      "[17, 26, 31, 44, 54, 20, 55, 77, 93]\n",
      "[17, 26, 31, 44, 20, 54, 55, 77, 93]\n",
      "[17, 26, 31, 20, 44, 54, 55, 77, 93]\n",
      "[17, 26, 20, 31, 44, 54, 55, 77, 93]\n",
      "[17, 20, 26, 31, 44, 54, 55, 77, 93]\n",
      "[17, 20, 26, 31, 44, 54, 55, 77, 93]\n"
     ]
    }
   ],
   "source": [
    "def bubbleSort(alist):\n",
    "    \n",
    "    for i in range(0,len(alist),1):\n",
    "        swapped = False\n",
    "        for j in range(0,len(alist)-i-1,1):\n",
    "            if alist[j]>alist[j+1]:\n",
    "                alist[j],alist[j+1] = alist[j+1],alist[j]\n",
    "                swapped = True\n",
    "                print(alist)\n",
    "        if not swapped:\n",
    "            break\n",
    "alist = [54,26,93,17,77,31,44,55,20]\n",
    "bubbleSort(alist)\n",
    "print(alist)"
   ]
  },
  {
   "cell_type": "code",
   "execution_count": null,
   "metadata": {
    "collapsed": true
   },
   "outputs": [],
   "source": []
  },
  {
   "cell_type": "markdown",
   "metadata": {},
   "source": [
    "# Selection Sort"
   ]
  },
  {
   "cell_type": "code",
   "execution_count": 13,
   "metadata": {},
   "outputs": [
    {
     "name": "stdout",
     "output_type": "stream",
     "text": [
      "[17, 20, 26, 31, 44, 54, 55, 77, 93]\n"
     ]
    }
   ],
   "source": [
    "def selectionSort(alist):\n",
    "    for i in range(0,len(alist),1):\n",
    "        min = i\n",
    "        for j in range(i+1,len(alist),1):\n",
    "            if(alist[j]<alist[min]):\n",
    "                min = j\n",
    "        if min != i:\n",
    "            alist[i],alist[min] = alist[min],alist[i]\n",
    "\n",
    "\n",
    "alist = [54,26,93,17,77,31,44,55,20]\n",
    "selectionSort(alist)\n",
    "print(alist)\n"
   ]
  },
  {
   "cell_type": "markdown",
   "metadata": {},
   "source": [
    "# insertion sort"
   ]
  },
  {
   "cell_type": "code",
   "execution_count": 16,
   "metadata": {},
   "outputs": [
    {
     "name": "stdout",
     "output_type": "stream",
     "text": [
      "[17, 20, 26, 31, 44, 54, 55, 77, 93]\n"
     ]
    }
   ],
   "source": [
    "def insertionSort(alist):\n",
    "    for i in range(1,len(alist),1):\n",
    "        key = alist[i]\n",
    "        j = i-1 \n",
    "        while j>=0 and alist[j]>key:\n",
    "            alist[j+1] = alist[j]\n",
    "            j -= 1\n",
    "        alist[j+1] = key\n",
    "\n",
    "alist = [54,26,93,17,77,31,44,55,20]\n",
    "insertionSort(alist)\n",
    "print(alist)"
   ]
  },
  {
   "cell_type": "markdown",
   "metadata": {},
   "source": [
    "# Hash - 1"
   ]
  },
  {
   "cell_type": "code",
   "execution_count": 10,
   "metadata": {},
   "outputs": [
    {
     "name": "stdout",
     "output_type": "stream",
     "text": [
      "entering values into hash-table\n",
      "collision found\n",
      "[77, None, None, None, 26, 93, 17, None, None, 31, 54]\n"
     ]
    }
   ],
   "source": [
    "def hash1(item, tablesize):\n",
    "    return item%tablesize\n",
    "list_items = [54,26,93,17,77,31,66]\n",
    "list_hash = [None, None, None, None, None, None, None, None,None, None, None]\n",
    "print(\"entering values into hash-table\")\n",
    "size = len(list_hash)\n",
    "for item in list_items:\n",
    "    hv = hash1(item,size)\n",
    "    if list_hash[hv] is None:\n",
    "        list_hash[hv] = item\n",
    "    else:\n",
    "        print(\"collision found\")\n",
    "        break\n",
    "print(list_hash)"
   ]
  },
  {
   "cell_type": "markdown",
   "metadata": {},
   "source": [
    "# Another hash"
   ]
  },
  {
   "cell_type": "code",
   "execution_count": 11,
   "metadata": {},
   "outputs": [
    {
     "name": "stdout",
     "output_type": "stream",
     "text": [
      "entering values into hash-table\n",
      "collision found\n",
      "[None, 54, None, 93, None, 26, None, None, None, None, None]\n"
     ]
    }
   ],
   "source": [
    "def hash1(item, tablesize):\n",
    "    return (item*item)%tablesize\n",
    "list_items = [54,26,93,17,77,31]\n",
    "list_hash = [None, None, None, None, None, None, None, None,None, None, None]\n",
    "print(\"entering values into hash-table\")\n",
    "size = len(list_hash)\n",
    "for item in list_items:\n",
    "    hv = hash1(item,size)\n",
    "    if list_hash[hv] is None:\n",
    "        list_hash[hv] = item\n",
    "    else:\n",
    "        print(\"collision found\")\n",
    "        break\n",
    "print(list_hash)"
   ]
  },
  {
   "cell_type": "markdown",
   "metadata": {},
   "source": [
    "# Hash with strings"
   ]
  },
  {
   "cell_type": "code",
   "execution_count": 12,
   "metadata": {},
   "outputs": [
    {
     "name": "stdout",
     "output_type": "stream",
     "text": [
      "entering values into hash-table\n",
      "[None, 'green', 'apple', 'bat', 'cat', None, 'woods', None, None, None, None]\n"
     ]
    }
   ],
   "source": [
    "def hash1(astring, tablesize):\n",
    "    sum = 0\n",
    "    for pos in range(len(astring)):\n",
    "        sum = sum + ord(astring[pos])\n",
    "\n",
    "    return sum%tablesize\n",
    "list_items = ['cat', 'bat', 'apple' , 'green' , 'woods']\n",
    "list_hash = [None, None, None, None, None, None, None, None,None, None, None]\n",
    "print(\"entering values into hash-table\")\n",
    "size = len(list_hash)\n",
    "for item in list_items:\n",
    "    hv = hash1(item,size)\n",
    "    if list_hash[hv] is None:\n",
    "        list_hash[hv] = item\n",
    "    else:\n",
    "        print(\"collision found\", item)\n",
    "        break;\n",
    "print(list_hash)"
   ]
  },
  {
   "cell_type": "markdown",
   "metadata": {},
   "source": [
    "# collison resolution - linear probing"
   ]
  },
  {
   "cell_type": "code",
   "execution_count": 13,
   "metadata": {},
   "outputs": [
    {
     "name": "stdout",
     "output_type": "stream",
     "text": [
      "entering values into hash-table\n",
      "collision found 44\n",
      "calculating hash again\n",
      "collision found 55\n",
      "calculating hash again\n",
      "calculating hash again\n",
      "collision found 20\n",
      "calculating hash again\n",
      "calculating hash again\n",
      "calculating hash again\n",
      "calculating hash again\n",
      "calculating hash again\n",
      "[77, 44, 55, 20, 26, 93, 17, None, None, 31, 54]\n"
     ]
    }
   ],
   "source": [
    "def hash1(item, tablesize):\n",
    "    return item%tablesize\n",
    "def rehash(item, tablesize,count):\n",
    "    return (item%tablesize)+count\n",
    "list_items = [54,26,93,17,77,31,44,55,20]\n",
    "list_hash = [None, None, None, None, None, None, None, None,None, None, None]\n",
    "print(\"entering values into hash-table\")\n",
    "size = len(list_hash)\n",
    "for item in list_items:\n",
    "    hv = hash1(item,size)\n",
    "    if list_hash[hv] is None:\n",
    "        list_hash[hv] = item\n",
    "    else:\n",
    "        print(\"collision found\", item)\n",
    "        counter = 1\n",
    "        while(True):\n",
    "            print(\"calculating hash again\")\n",
    "            hv = rehash(item,size,counter)\n",
    "            if hv>size - 1:\n",
    "                hv = hv  % size\n",
    "            if list_hash[hv] is None:\n",
    "                list_hash[hv] = item\n",
    "                break;\n",
    "            else:\n",
    "                counter = counter + 1\n",
    "print(list_hash)"
   ]
  },
  {
   "cell_type": "markdown",
   "metadata": {},
   "source": [
    "# Chaining"
   ]
  },
  {
   "cell_type": "code",
   "execution_count": 14,
   "metadata": {},
   "outputs": [
    {
     "name": "stdout",
     "output_type": "stream",
     "text": [
      "entering values into hash-table\n",
      "10\n",
      "{0: [], 1: [], 2: [], 3: [], 4: [], 5: [], 6: [], 7: [], 8: [], 9: [], 10: [54]}\n",
      "4\n",
      "{0: [], 1: [], 2: [], 3: [], 4: [26], 5: [], 6: [], 7: [], 8: [], 9: [], 10: [54]}\n",
      "5\n",
      "{0: [], 1: [], 2: [], 3: [], 4: [26], 5: [93], 6: [], 7: [], 8: [], 9: [], 10: [54]}\n",
      "6\n",
      "{0: [], 1: [], 2: [], 3: [], 4: [26], 5: [93], 6: [17], 7: [], 8: [], 9: [], 10: [54]}\n",
      "0\n",
      "{0: [77], 1: [], 2: [], 3: [], 4: [26], 5: [93], 6: [17], 7: [], 8: [], 9: [], 10: [54]}\n",
      "9\n",
      "{0: [77], 1: [], 2: [], 3: [], 4: [26], 5: [93], 6: [17], 7: [], 8: [], 9: [31], 10: [54]}\n",
      "0\n",
      "{0: [77, 44], 1: [], 2: [], 3: [], 4: [26], 5: [93], 6: [17], 7: [], 8: [], 9: [31], 10: [54]}\n",
      "0\n",
      "{0: [77, 44, 55], 1: [], 2: [], 3: [], 4: [26], 5: [93], 6: [17], 7: [], 8: [], 9: [31], 10: [54]}\n",
      "9\n",
      "{0: [77, 44, 55], 1: [], 2: [], 3: [], 4: [26], 5: [93], 6: [17], 7: [], 8: [], 9: [31, 20], 10: [54]}\n",
      "{0: [77, 44, 55], 1: [], 2: [], 3: [], 4: [26], 5: [93], 6: [17], 7: [], 8: [], 9: [31, 20], 10: [54]}\n"
     ]
    }
   ],
   "source": [
    "def hash1(item, tablesize):\n",
    "    return item%tablesize\n",
    "\n",
    "list_items = [54,26,93,17,77,31,44,55,20]\n",
    "dict_hash = {}\n",
    "\n",
    "size_hash_table = 11\n",
    "for i in range(11):\n",
    "    dict_hash[i] = []     \n",
    "print(\"entering values into hash-table\")\n",
    "for item in list_items:\n",
    "    \n",
    "    hv = hash1(item,size_hash_table)\n",
    "    print(hv)\n",
    "    dict_hash[hv].append(item)\n",
    "    print(dict_hash)\n",
    "print(dict_hash)\n"
   ]
  },
  {
   "cell_type": "code",
   "execution_count": null,
   "metadata": {
    "collapsed": true
   },
   "outputs": [],
   "source": []
  }
 ],
 "metadata": {
  "kernelspec": {
   "display_name": "Python 3",
   "language": "python",
   "name": "python3"
  },
  "language_info": {
   "codemirror_mode": {
    "name": "ipython",
    "version": 3
   },
   "file_extension": ".py",
   "mimetype": "text/x-python",
   "name": "python",
   "nbconvert_exporter": "python",
   "pygments_lexer": "ipython3",
   "version": "3.6.1"
  }
 },
 "nbformat": 4,
 "nbformat_minor": 2
}
