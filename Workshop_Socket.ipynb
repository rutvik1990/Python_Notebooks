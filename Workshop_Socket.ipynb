{
 "cells": [
  {
   "cell_type": "markdown",
   "metadata": {},
   "source": [
    "# Socket Programming"
   ]
  },
  {
   "cell_type": "markdown",
   "metadata": {},
   "source": [
    "Socket programming is a way of connecting two nodes on a network to communicate with each other. One socket(node) listens on a particular port at an IP, while other socket reaches out to the other to form a connection. Server forms the listener socket while client reaches out to the server. They are the real backbones behind web browsing. In simpler terms there is a server and a client.\n",
    "\n",
    "Socket programming is started by importing the socket library and making a simple socket."
   ]
  },
  {
   "cell_type": "raw",
   "metadata": {},
   "source": [
    "import socket\n",
    "s = socket.socket(socket.AF_INET, socket.SOCK_STREAM)"
   ]
  },
  {
   "cell_type": "markdown",
   "metadata": {},
   "source": [
    "Here we made a socket instance and passed it two parameters. The first parameter is AF_INET and the second one is SOCK_STREAM. AF_INET refers to the address family ipv4. The SOCK_STREAM means connection oriented TCP protocol.\n",
    "\n",
    "Now we can connect to a server using this socket."
   ]
  },
  {
   "cell_type": "code",
   "execution_count": 1,
   "metadata": {},
   "outputs": [
    {
     "name": "stdout",
     "output_type": "stream",
     "text": [
      "HTTP/1.1 200 OK\r\n",
      "Cache-Control: private\r\n",
      "Content-Type: text/html; charset=utf-8\r\n",
      "Server: Microsoft-IIS/8.5\r\n",
      "X-AspNet-Version: 4.0.30319\r\n",
      "X-Powered-By: ASP.NET\r\n",
      "Date: Mon, 22 Jul 2019 16:59:49 GMT\r\n",
      "Connection: close\r\n",
      "Content-Length: 8419\r\n",
      "\r\n",
      "\r\n",
      "\r\n",
      "<!DOCTYPE html>\r\n",
      "\r\n",
      "<html xmlns=\"http://www.w3.org/1999/xhtml\">\r\n",
      "<head><title>\r\n",
      "\tParul University\r\n",
      "</title><meta content=\"width=device-width, initial-scale=1.0\" name=\"viewport\" />\r\n",
      "    <!-- BEGIN GLOBAL MANDATORY STYLES -->\r\n",
      "    \r\n",
      "    <link href=\"http://fonts.googleapi\n",
      "s.com/css?family=Open+Sans:400,300,600,700&amp;subset=all\" rel=\"stylesheet\" type=\"text/css\" />\r\n",
      "    <link href=\"assets/global/plugins/font-awesome/css/font-awesome.min.css\" rel=\"stylesheet\" type=\"text/css\" />\r\n",
      "    <link href=\"assets/global/plugins/simple-line-icons/simple-line-icons.min.css\" rel=\"stylesheet\" type=\"text/css\" />\r\n",
      "    <link href=\"assets/global/plugins/bootstrap/css/bootstrap.min.css\" rel=\"stylesheet\" type=\"text/css\" />\r\n",
      "    <link href=\"assets/global/plugins/uniform/css/uniform.default.css\" rel\n",
      "=\"stylesheet\" type=\"text/css\" />\r\n",
      "    <!-- END GLOBAL MANDATORY STYLES -->\r\n",
      "    <!-- BEGIN PAGE LEVEL STYLES -->\r\n",
      "    <link href=\"assets/global/plugins/select2/select2.css\" rel=\"stylesheet\" type=\"text/css\" />\r\n",
      "    <link href=\"assets/admin/pages/css/login3.css\" rel=\"stylesheet\" type=\"text/css\" />\r\n",
      "    <!-- END PAGE LEVEL SCRIPTS -->\r\n",
      "    <!-- BEGIN THEME STYLES -->\r\n",
      "    <link href=\"assets/global/css/components-rounded.css\" id=\"style_components\" rel=\"stylesheet\" type=\"text/css\" />\r\n",
      "    <link href=\"assets/glob\n",
      "al/css/plugins.css\" rel=\"stylesheet\" type=\"text/css\" />\r\n",
      "    <link href=\"assets/admin/layout/css/layout.css\" rel=\"stylesheet\" type=\"text/css\" />\r\n",
      "    <link href=\"assets/admin/layout/css/themes/default.css\" rel=\"stylesheet\" type=\"text/css\" id=\"style_color\" />\r\n",
      "    <link href=\"assets/admin/layout/css/custom.css\" rel=\"stylesheet\" type=\"text/css\" />\r\n",
      "    <!-- END THEME STYLES -->\r\n",
      "    <style>\r\n",
      "        .row {\r\n",
      "            margin: 0px !important;\r\n",
      "        }\r\n",
      "    </style>\r\n",
      "</head>\r\n",
      "<body class=\"login\">\r\n",
      "    <div c\n",
      "lass=\"logo\" style=\"margin: 30px auto 20px auto;\">\r\n",
      "   \r\n",
      "        <h1 style=\"color: white;\">\r\n",
      "            <span id=\"lblUniversityName\">Parul University</span>\r\n",
      "        </h1>\r\n",
      "        <h2 style=\"color: white;\">Control Panel</h2>\r\n",
      "    </div>\r\n",
      "    <div class=\"row\">\r\n",
      "        <div class=\"col-lg-2 col-md-2 col-sm-3 col-xs-12\">\r\n",
      "        </div>\r\n",
      "        <div class=\"col-lg-4 col-md-4 col-sm-8 col-xs-12\">\r\n",
      "            <a id=\"hlLogin\" href=\"Login.aspx\">\r\n",
      "                <div class=\"dashboard-stat blue\">\r\n",
      "               \n",
      "     <div class=\"visual\">\r\n",
      "                        <i class=\"fa fa-sign-in\"></i>\r\n",
      "                    </div>\r\n",
      "                    <div class=\"details\">\r\n",
      "                        <div class=\"number\">\r\n",
      "                            Staff Panel\r\n",
      "                        </div>\r\n",
      "                        <div class=\"desc\">\r\n",
      "                            Login\r\n",
      "                        </div>\r\n",
      "                    </div>\r\n",
      "                    <div  class=\"more\">\r\n",
      "                    Login Here <i class=\"m-icon-swapright m-\n",
      "icon-white\"></i>\r\n",
      "                        </div>\r\n",
      "                </div>\r\n",
      "            </a>\r\n",
      "        </div>\r\n",
      "        <div class=\"col-lg-4 col-md-4 col-sm-8 col-xs-12\">\r\n",
      "            <a id=\"hlStudentLogin\" class=\"more\" href=\"StudentPanel\">\r\n",
      "                <div class=\"dashboard-stat green\">\r\n",
      "                    <div class=\"visual\">\r\n",
      "                        <i class=\"fa fa-sign-in\"></i>\r\n",
      "             \n",
      "       </div>\r\n",
      "                    <div class=\"details\">\r\n",
      "                        <div class=\"number\">\r\n",
      "                            Student Panel\r\n",
      "                        </div>\r\n",
      "                        <div class=\"desc\">\r\n",
      "                            Login\r\n",
      "                        </div>\r\n",
      "                    </div>\r\n",
      "                    <div  class=\"more\">\r\n",
      "                    Login Here <i class=\"m-icon-swapright m-icon-white\"></i>\r\n",
      "                </div>\r\n",
      "                    </div>\r\n",
      "            </a>\r\n",
      "     \n",
      "   </div>\r\n",
      "       <div class=\"col-lg-2 col-md-2 col-sm-3 col-xs-12\">\r\n",
      "        </div>\r\n",
      "    </div>\r\n",
      "    <div class=\"row\">\r\n",
      "       <div class=\"col-lg-2 col-md-2 col-sm-3 col-xs-12\">\r\n",
      "        </div>\r\n",
      "         <div class=\"col-lg-4 col-md-4 col-sm-8 col-xs-12\">\r\n",
      "            <a id=\"hlOtherStudentLogin\" class=\"more\" href=\"StudentPanel/Default.aspx?StudentType=Other\">\r\n",
      "                <div class=\"dashboard-stat grey-cascade\">\r\n",
      "                    <div class=\"visual\">\r\n",
      "                        <i class=\"fa fa-sign-in\"\n",
      "></i>\r\n",
      "                    </div>\r\n",
      "                    <div class=\"details\">\r\n",
      "                        <div class=\"number\">\r\n",
      "                            Other Student Panel\r\n",
      "                        </div>\r\n",
      "                        <div class=\"desc\">\r\n",
      "                            Login\r\n",
      "                        </div>\r\n",
      "                    </div>\r\n",
      "                    <div  class=\"more\">\r\n",
      "                    Login Here <i class=\"m-icon-swapright m-icon-white\"></i>\r\n",
      "                        </div>\r\n",
      "                <\n",
      "/div>\r\n",
      "            </a>\r\n",
      "        </div>\r\n",
      "        <div class=\"col-lg-4 col-md-4 col-sm-8 col-xs-12\">\r\n",
      "            <a id=\"hlParentLogin\" class=\"more\" href=\"ParentPanel\">\r\n",
      "                <div class=\"dashboard-stat blue-madison\">\r\n",
      "                    <div class=\"visual\">\r\n",
      "                        <i class=\"fa fa-sign-in\"></i>\r\n",
      "                    </div>\r\n",
      "                    <div class=\"details\">\r\n",
      "                        <div class=\"number\">\r\n",
      "                            Parent Panel\r\n",
      "                        </di\n",
      "v>\r\n",
      "                        <div class=\"desc\">\r\n",
      "                            Login\r\n",
      "                        </div>\r\n",
      "                    </div>\r\n",
      "                    <div  class=\"more\">\r\n",
      "                    Login Here <i class=\"m-icon-swapright m-icon-white\"></i>\r\n",
      "                        </div>\r\n",
      "                </div>\r\n",
      "            </a>\r\n",
      "        </div>\r\n",
      "        <div class=\"col-lg-2 col-md-2 col-sm-3 col-xs-12\">\r\n",
      "        </div>\r\n",
      "    </div>\r\n",
      "    <div class=\"text-center margin-top-20\">\r\n",
      "        <div class=\"col-md-\n",
      "12\">\r\n",
      "            <h1 class=\"font-red-flamingo\">\r\n",
      "                <span id=\"lblMISMessage\"></span>\r\n",
      "            </h1>\r\n",
      "        </div>\r\n",
      "    </div>\r\n",
      "    <div class=\"margin-top-20\">\r\n",
      "        <div class=\"col-md-12 text-center\">\r\n",
      "            <a id=\"hlBlog\" class=\"btn default\" href=\"Blog\" target=\"_blank\">\r\n",
      "               <i class=\"fa fa-sign-out\"></i>&nbsp;Blog &nbsp;\r\n",
      "            </a>\r\n",
      "            <br />\r\n",
      "            <br />\r\n",
      "            <a id=\"hlQAndAns\" class=\"btn default margin-bottom-10\" href=\"QuestionAnswer\"\n",
      " target=\"_blank\">\r\n",
      "                <i class=\"fa fa-sign-out\"></i> &nbsp; Question-Answer & Discussion Forum \r\n",
      "            </a>\r\n",
      "        </div>\r\n",
      "    </div>\r\n",
      "    <!-- END COPYRIGHT -->\r\n",
      "    <!-- BEGIN JAVASCRIPTS(Load javascripts at bottom, this will reduce page load time) -->\r\n",
      "    <!-- BEGIN CORE PLUGINS -->\r\n",
      "    <!--[if lt IE 9]>\r\n",
      "<script src=\"assets/global/plugins/respond.min.js\"></script>\r\n",
      "<script src=\"assets/global/plugins/excanvas.min.js\"></script> \r\n",
      "<![endif]-->\r\n",
      "    <script src=\"assets/global/plugins/\n",
      "jquery.min.js\" type=\"text/javascript\"></script>\r\n",
      "    <script src=\"assets/global/plugins/jquery-migrate.min.js\" type=\"text/javascript\"></script>\r\n",
      "    <script src=\"assets/global/plugins/bootstrap/js/bootstrap.min.js\" type=\"text/javascript\"></script>\r\n",
      "    <script src=\"assets/global/plugins/jquery.blockui.min.js\" type=\"text/javascript\"></script>\r\n",
      "    <script src=\"assets/global/plugins/uniform/jquery.uniform.min.js\" type=\"text/javascript\"></script>\r\n",
      "    <script src=\"assets/global/plugins/jquery.cokie.min.js\" typ\n",
      "e=\"text/javascript\"></script>\r\n",
      "    <!-- END CORE PLUGINS -->\r\n",
      "    <!-- BEGIN PAGE LEVEL PLUGINS -->\r\n",
      "    <script src=\"assets/global/plugins/jquery-validation/js/jquery.validate.min.js\" type=\"text/javascript\"></script>\r\n",
      "    <script type=\"text/javascript\" src=\"assets/global/plugins/select2/select2.min.js\"></script>\r\n",
      "    <!-- END PAGE LEVEL PLUGINS -->\r\n",
      "    <!-- BEGIN PAGE LEVEL SCRIPTS -->\r\n",
      "    <script src=\"assets/global/scripts/metronic.js\" type=\"text/javascript\"></script>\r\n",
      "    <script src=\"assets/admin/layo\n",
      "ut/scripts/layout.js\" type=\"text/javascript\"></script>\r\n",
      "    <script src=\"assets/admin/layout/scripts/demo.js\" type=\"text/javascript\"></script>\r\n",
      "    <script src=\"assets/admin/pages/scripts/login.js\" type=\"text/javascript\"></script>\r\n",
      "    <!-- END PAGE LEVEL SCRIPTS -->\r\n",
      "    <script>\r\n",
      "        jQuery(document).ready(function () {\r\n",
      "            Metronic.init(); // init metronic core components\r\n",
      "            Layout.init(); // init current layout\r\n",
      "            Login.init();\r\n",
      "            Demo.init();\r\n",
      "            sess\n",
      "ionStorage.clear();\r\n",
      "        });\r\n",
      "    </script>\r\n",
      "</body>\r\n",
      "</html>\r\n",
      "\n"
     ]
    }
   ],
   "source": [
    "import socket\n",
    "\n",
    "mysock = socket.socket(socket.AF_INET, socket.SOCK_STREAM)\n",
    "mysock.connect(('180.211.119.163', 8081))\n",
    "#mysock.send('GET http://data.pr4e.org/romeo.txt HTTP/1.0\\r\\n\\r\\n'.encode())\n",
    "mysock.send(b'GET http://180.211.119.163:8081/Default.aspx HTTP/1.0\\r\\n\\r\\n') #alternative method(python 3)\n",
    "\n",
    "\n",
    "while True:\n",
    "    data = mysock.recv(512).decode()\n",
    "    if ( len(data) < 1 ) :\n",
    "        break\n",
    "    print (data)\n",
    "\n",
    "mysock.close()"
   ]
  },
  {
   "cell_type": "code",
   "execution_count": null,
   "metadata": {
    "collapsed": true
   },
   "outputs": [],
   "source": []
  },
  {
   "cell_type": "code",
   "execution_count": 2,
   "metadata": {},
   "outputs": [
    {
     "name": "stdout",
     "output_type": "stream",
     "text": [
      "HTTP/1.1 200 OK\r\n",
      "Date: Mon, 22 Jul 2019 16:59:53 GMT\r\n",
      "Server: Apache/2.2.24 (Unix) mod_ssl/2.2.24 OpenSSL/1.0.2g PHP/5.4.13\r\n",
      "X-Powered-By: PHP/5.4.13\r\n",
      "Set-Cookie: wxt=0801e2a5f0409fd9e8c53525d9751f8f; path=/\r\n",
      "Expires: Thu, 19 Nov 1981 08:52:00 GMT\r\n",
      "Cache-Control: no-store, no-cache, must-revalidate, post-check=0, pre-check=0\r\n",
      "Pragma: no-cache\r\n",
      "Content-Length: 156\r\n",
      "Connection: close\r\n",
      "Content-Type: text/plain\r\n",
      "\r\n",
      "# robots.txt file for \n",
      "\n",
      "# This is not the main site - don't index it to avoid dilution\n",
      "# Please re\n",
      "fer instead to www.wellho.net\n",
      "\n",
      "User-agent: *\n",
      "Disallow: /\n",
      "\n",
      "\n"
     ]
    }
   ],
   "source": [
    "import socket\n",
    "\n",
    "mysock = socket.socket(socket.AF_INET, socket.SOCK_STREAM)\n",
    "mysock.connect(('www.wellho.net', 80))\n",
    "#mysock.send('GET http://data.pr4e.org/romeo.txt HTTP/1.0\\r\\n\\r\\n'.encode())\n",
    "mysock.send(b'GET http://www.wellho.net/robots.txt HTTP/1.0\\r\\n\\r\\n') #alternative method(python 3)\n",
    "\n",
    "\n",
    "while True:\n",
    "    data = mysock.recv(512).decode()\n",
    "    if ( len(data) < 1 ) :\n",
    "        break\n",
    "    print (data)\n",
    "\n",
    "mysock.close()"
   ]
  },
  {
   "cell_type": "raw",
   "metadata": {},
   "source": [
    "A simple server-client program"
   ]
  },
  {
   "cell_type": "markdown",
   "metadata": {},
   "source": [
    "# server"
   ]
  },
  {
   "cell_type": "markdown",
   "metadata": {
    "collapsed": true
   },
   "source": [
    "A server has a bind() method which binds it to a specific ip and port so that it can listen to incoming requests on that ip and port.A server has a listen() method which puts the server into listen mode. This allows the server to listen to incoming connections. And last a server has an accept() and close() method. The accept method initiates a connection with the client and the close method closes the connection with the client."
   ]
  },
  {
   "cell_type": "code",
   "execution_count": null,
   "metadata": {
    "collapsed": true
   },
   "outputs": [],
   "source": [
    "import socket               \n",
    " \n",
    "s = socket.socket()         \n",
    "print (\"Socket successfully created\")\n",
    "port = 12345               \n",
    "s.bind(('127.0.0.1', port))        \n",
    "print (\"socket binded to %s\" %(port))\n",
    "s.listen()     \n",
    "print (\"socket is listening\")           \n",
    "while True:\n",
    "    c, addr = s.accept()     \n",
    "    print ('Got connection from', addr) \n",
    "    c.send(b'Thank you for connecting')\n",
    "    c.close()"
   ]
  },
  {
   "cell_type": "markdown",
   "metadata": {},
   "source": [
    "- First of all we import socket which is necessary.\n",
    "- Then we made a socket object and reserved a port on our pc.\n",
    "- After that we binded our server to the specified port. Passing an empty string means that the server can listen to incoming connections from other computers as well. If we would have passed 127.0.0.1 then it would have listened to only those calls made within the local computer.\n",
    "- After that we put the server into listen mode.5 here means that 5 connections are kept waiting if the server is busy and if a 6th socket trys to connect then the connection is refused.\n",
    "- At last we make a while loop and start to accept all incoming connections and close those connections after a thank you message to all connected sockets."
   ]
  },
  {
   "cell_type": "markdown",
   "metadata": {},
   "source": [
    "# client"
   ]
  },
  {
   "cell_type": "markdown",
   "metadata": {},
   "source": [
    "Now we need something with which a server can interact. We could tenet to the server like this just to know that our server is working. "
   ]
  },
  {
   "cell_type": "code",
   "execution_count": null,
   "metadata": {
    "collapsed": true
   },
   "outputs": [],
   "source": [
    "# Import socket module\n",
    "import socket               \n",
    " \n",
    "# Create a socket object\n",
    "s = socket.socket()         \n",
    " \n",
    "# Define the port on which you want to connect\n",
    "port = 12345               \n",
    " \n",
    "# connect to the server on local computer\n",
    "s.connect(('127.0.0.1', port))\n",
    " \n",
    "# receive data from the server\n",
    "print s.recv(1024)\n",
    "# close the connection\n",
    "s.close()    "
   ]
  },
  {
   "cell_type": "markdown",
   "metadata": {},
   "source": [
    "- First of all we make a socket object.\n",
    "- Then we connect to localhost on port 12345 (the port on which our server runs) and lastly we receive data from the server and close the connection.\n",
    "- Now save this file as client.py and run it from the terminal after starting the server script."
   ]
  },
  {
   "cell_type": "code",
   "execution_count": null,
   "metadata": {
    "collapsed": true
   },
   "outputs": [],
   "source": [
    "import socket               \n",
    " \n",
    "s = socket.socket(socket.AF_INET, socket.SOCK_DGRAM)       \n",
    "print (\"Socket successfully created\")\n",
    "port = 12346               \n",
    "s.bind(('127.0.0.1', port))        \n",
    "print (\"socket binded to %s\" %(port))\n",
    "   \n",
    "       \n",
    "while True:\n",
    "        \n",
    "    c.sendto(b'Thank you for connecting')\n",
    "    c.close()"
   ]
  },
  {
   "cell_type": "markdown",
   "metadata": {},
   "source": [
    "# Making HTTP Easier With urllib"
   ]
  },
  {
   "cell_type": "markdown",
   "metadata": {},
   "source": [
    "Since HTTP is so common, we have a library that does all the socket work for us and makes web pages look like a file"
   ]
  },
  {
   "cell_type": "code",
   "execution_count": null,
   "metadata": {
    "collapsed": true
   },
   "outputs": [],
   "source": [
    "import urllib.request\n",
    "dict1 = {}\n",
    "fhand = urllib.request.urlopen('http://data.pr4e.org/romeo.txt')\n",
    "for line in fhand:\n",
    "    print (line.strip())\n",
    "    word = line.split()\n",
    "    for item in word:\n",
    "        if item not in dict1:\n",
    "            dict1[item] = 1\n",
    "        else:\n",
    "            dict1[item] = dict1[item] + 1\n",
    "print (dict1)\n"
   ]
  },
  {
   "cell_type": "markdown",
   "metadata": {},
   "source": [
    "# Web scraping with beautifulsoup"
   ]
  },
  {
   "cell_type": "markdown",
   "metadata": {},
   "source": [
    "- When a program or script pretends to be a browser and retrieves web pages, looks at those web pages, extracts information, and then looks at more web pages\n",
    "- Search engines scrape web pages - we call this “spidering the web” or “web crawling”\n"
   ]
  },
  {
   "cell_type": "raw",
   "metadata": {},
   "source": [
    "Why Scrape?"
   ]
  },
  {
   "cell_type": "markdown",
   "metadata": {},
   "source": [
    "- Pull data - particularly social data - who links to who?\n",
    "- Get your own data back out of some system that has no “export capability”\n",
    "- Monitor a site for new information\n",
    "- Spider the web to make a database for a search engine"
   ]
  },
  {
   "cell_type": "code",
   "execution_count": null,
   "metadata": {
    "collapsed": true
   },
   "outputs": [],
   "source": [
    "import urllib.request \n",
    "from bs4 import BeautifulSoup\n",
    "\n",
    "url = input('Enter - ')\n",
    "html = urllib.request.urlopen(url).read()\n",
    "soup = BeautifulSoup(html, 'html.parser')\n",
    "\n",
    "# Retrieve all of the anchor tags\n",
    "tags = soup('a')\n",
    "for tag in tags:\n",
    "    print(tag.get('href', None))\n"
   ]
  },
  {
   "cell_type": "code",
   "execution_count": null,
   "metadata": {
    "collapsed": true
   },
   "outputs": [],
   "source": []
  }
 ],
 "metadata": {
  "kernelspec": {
   "display_name": "Python 3",
   "language": "python",
   "name": "python3"
  },
  "language_info": {
   "codemirror_mode": {
    "name": "ipython",
    "version": 3
   },
   "file_extension": ".py",
   "mimetype": "text/x-python",
   "name": "python",
   "nbconvert_exporter": "python",
   "pygments_lexer": "ipython3",
   "version": "3.6.1"
  }
 },
 "nbformat": 4,
 "nbformat_minor": 2
}
