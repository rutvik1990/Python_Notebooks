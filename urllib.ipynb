{
 "cells": [
  {
   "cell_type": "code",
   "execution_count": 1,
   "metadata": {},
   "outputs": [
    {
     "name": "stdout",
     "output_type": "stream",
     "text": [
      "b'But soft what light through yonder window breaks'\n",
      "b'It is the east and Juliet is the sun'\n",
      "b'Arise fair sun and kill the envious moon'\n",
      "b'Who is already sick and pale with grief'\n",
      "200\n"
     ]
    }
   ],
   "source": [
    "import urllib.request\n",
    "\n",
    "fhand = urllib.request.urlopen('http://data.pr4e.org/romeo.txt')\n",
    "for line in fhand:\n",
    "    print (line.strip())\n",
    "print(fhand.status)\n"
   ]
  },
  {
   "cell_type": "code",
   "execution_count": null,
   "metadata": {},
   "outputs": [],
   "source": [
    "import urllib.request\n",
    "dict1 = {}\n",
    "fhand = urllib.request.urlopen(\"http://data.pr4e.org/romeo.txt\")\n",
    "for line in fhand:\n",
    "    line = str(line.decode()).strip()\n",
    "    word = str(line).split()\n",
    "    for item in word:\n",
    "        if item not in dict1:\n",
    "            dict1[item] = 1\n",
    "        else:\n",
    "            dict1[item] = dict1[item] + 1\n",
    "print(dict1)"
   ]
  },
  {
   "cell_type": "code",
   "execution_count": null,
   "metadata": {
    "collapsed": true,
    "scrolled": false
   },
   "outputs": [],
   "source": [
    "import urllib.request\n",
    "import urllib.parse\n",
    "url =  \"https://pythonprogramming.net/search/?\"\n",
    "values = {\"q\":\"basic\"}\n",
    "data  = urllib.parse.urlencode(values)\n",
    "data = data.encode(\"utf-8\")\n",
    "req = urllib.request.Request(url,data)\n",
    "resp=urllib.request.urlopen(req)\n",
    "respdata = resp.read()\n",
    "#print(respdata)\n",
    "with open(\"result.txt\",\"w\") as handle:\n",
    "        handle.write(str(respdata))\n",
    "print(\"end\")"
   ]
  },
  {
   "cell_type": "code",
   "execution_count": null,
   "metadata": {
    "collapsed": true
   },
   "outputs": [],
   "source": [
    "import urllib.request\n",
    "import urllib.parse\n",
    "url =  \"http://www.wdylike.appspot.com/?\"\n",
    "'''headers = {}\n",
    "headers[\"user-agent\"] = \"mozilla/5.10\"\n",
    "values = {\"q\":\"basic\"}\n",
    "data  = urllib.parse.urlencode(values)\n",
    "data = data.encode(\"utf-8\")\n",
    "req = urllib.request.Request(url,data,headers = headers)'''\n",
    "values = {\"q\":\"fuck\"}\n",
    "data  = urllib.parse.urlencode(values)\n",
    "data = data.encode(\"utf-8\")\n",
    "resp=urllib.request.urlopen(url + str(data))\n",
    "respdata = resp.read()\n",
    "print(respdata)\n",
    "with open(\"result1.txt\",\"w\") as handle:\n",
    "        handle.write(str(respdata))\n",
    "print(\"end\")"
   ]
  },
  {
   "cell_type": "code",
   "execution_count": null,
   "metadata": {
    "collapsed": true
   },
   "outputs": [],
   "source": [
    "import urllib.request as ur\n",
    "try:\n",
    "    x =ur.urlopen(\"https://www.google.com/search?q=test\")\n",
    "    print(x.read())\n",
    "except Exception as e:\n",
    "    print(str(e))\n"
   ]
  },
  {
   "cell_type": "code",
   "execution_count": null,
   "metadata": {},
   "outputs": [
    {
     "name": "stdout",
     "output_type": "stream",
     "text": [
      "press q to end the search\n",
      "enter the word to be searchedrutvik mehta\n"
     ]
    }
   ],
   "source": [
    "import urllib\n",
    "\n",
    "#response = urllib.urlopen ( 'http://ajax.googleapis.com/ajax/services/search/web?v=1.0&' + query ).read()\n",
    "\n",
    "import urllib.request\n",
    "import urllib.parse\n",
    "url =  \"https://www.google.com/search/?\"\n",
    "print(\"press q to end the search\")\n",
    "headers = {}\n",
    "headers[\"user-agent\"] = \"mozilla/5.10\"\n",
    "while True:\n",
    "    search = input(\"enter the word to be searched\")\n",
    "    if search == \"q\":\n",
    "        break\n",
    "    values = {\"q\":search}\n",
    "    data  = urllib.parse.urlencode(values)\n",
    "    data = str(data.encode(\"utf-8\"))\n",
    "    #req = urllib.request.Request(url,data,headers =  headers)\n",
    "    resp=urllib.request.urlopen('http://ajax.googleapis.com/ajax/services/search/web?v=1.0&' + data).read()\n",
    "    resp = str(resp)\n",
    "    \n",
    "    with open(\"result.txt\",\"w\") as handle:\n",
    "        handle.write(resp)\n"
   ]
  },
  {
   "cell_type": "code",
   "execution_count": null,
   "metadata": {
    "collapsed": true
   },
   "outputs": [],
   "source": [
    "import os\n",
    "import http.server\n",
    "import socketserver as ss\n",
    "\n",
    "print(os.getcwd())\n",
    "os.chdir(r\"C:\\Users\\Rutvik Mehta\\Desktop\\Python - Programming for everybody\\Programs\\Network\")\n",
    "print(os.getcwd())\n",
    "\n",
    "handle = http.server.SimpleHTTPRequestHandler\n",
    "httpd = ss.TCPServer((\"127.0.0.1\",9001), handle)\n",
    "httpd.serve_forever()\n"
   ]
  },
  {
   "cell_type": "code",
   "execution_count": 2,
   "metadata": {},
   "outputs": [
    {
     "name": "stdout",
     "output_type": "stream",
     "text": [
      "Query: hey\n",
      "b'{\"responseData\": null, \"responseDetails\": \"The Google Web Search API is no longer available. Please migrate to the Google Custom Search API (https://developers.google.com/custom-search/)\", \"responseStatus\": 403}'\n"
     ]
    },
    {
     "data": {
      "text/plain": [
       "\"json = m_json.loads ( response )\\nresults = json [ 'responseData' ] [ 'results' ]\\nfor result in results:\\n    title = result['title']\\n    url = result['url']   # was URL in the original and that threw a name error exception\\n    print ( title + '; ' + url )\""
      ]
     },
     "execution_count": 2,
     "metadata": {},
     "output_type": "execute_result"
    }
   ],
   "source": [
    "import urllib.request as ur\n",
    "import urllib.parse as up\n",
    "import json as m_json\n",
    "query = input ( 'Query: ' )\n",
    "query = up.urlencode ( { 'q' : query } )\n",
    "response = ur.urlopen ( 'http://ajax.googleapis.com/ajax/services/search/web?v=1.0&' + query ).read()\n",
    "print(response)\n",
    "'''json = m_json.loads ( response )\n",
    "results = json [ 'responseData' ] [ 'results' ]\n",
    "for result in results:\n",
    "    title = result['title']\n",
    "    url = result['url']   # was URL in the original and that threw a name error exception\n",
    "    print ( title + '; ' + url )'''"
   ]
  },
  {
   "cell_type": "code",
   "execution_count": null,
   "metadata": {
    "collapsed": true
   },
   "outputs": [],
   "source": [
    "import urllib.request as ur\n",
    "\n",
    "conn  = ur.urlopen(r\"http://127.0.0.1:9000/client.py\")\n",
    "print(conn.read())\n"
   ]
  },
  {
   "cell_type": "code",
   "execution_count": null,
   "metadata": {
    "collapsed": true
   },
   "outputs": [],
   "source": []
  }
 ],
 "metadata": {
  "kernelspec": {
   "display_name": "Python 3",
   "language": "python",
   "name": "python3"
  },
  "language_info": {
   "codemirror_mode": {
    "name": "ipython",
    "version": 3
   },
   "file_extension": ".py",
   "mimetype": "text/x-python",
   "name": "python",
   "nbconvert_exporter": "python",
   "pygments_lexer": "ipython3",
   "version": "3.6.1"
  }
 },
 "nbformat": 4,
 "nbformat_minor": 2
}
