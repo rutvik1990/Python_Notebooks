{
 "cells": [
  {
   "cell_type": "markdown",
   "metadata": {},
   "source": [
    "# Database connectivity with SQLite3"
   ]
  },
  {
   "cell_type": "raw",
   "metadata": {},
   "source": [
    "Step - 1: Import modules for database\n",
    "\n",
    "import sqlite3"
   ]
  },
  {
   "cell_type": "raw",
   "metadata": {},
   "source": [
    "Step - 2: Open a database connection with your program using connect()\n",
    "\n",
    "conn = sqlite3.connect(r'C:\\Users\\Rutvik Mehta\\Desktop\\Python - Programming for everybody\\data\\emaildb.sqlite')"
   ]
  },
  {
   "cell_type": "markdown",
   "metadata": {},
   "source": [
    "The connect() constructor creates a connection to the SQlite and returns a Connection object."
   ]
  },
  {
   "cell_type": "raw",
   "metadata": {},
   "source": [
    "Step - 3: Creating cursor object\n",
    "\n",
    "cur = conn.cursor()"
   ]
  },
  {
   "cell_type": "markdown",
   "metadata": {},
   "source": [
    "- We need to create the object of a class called cursor that allows Python code to execute database command in a database session.\n",
    "\n",
    "- Cursors are created by the connection.cursor() method: they are bound to the connection for the entire lifetime and all the commands are executed in the context of the database session wrapped by the connection.\n"
   ]
  },
  {
   "cell_type": "raw",
   "metadata": {},
   "source": [
    "Step - 4: Execute SQL query\n",
    "\n",
    "cur.execute('DROP TABLE IF EXISTS Counts')\n",
    "\n",
    "cur.execute('''\n",
    "CREATE TABLE Counts (org TEXT, count INTEGER)''')\n"
   ]
  },
  {
   "cell_type": "raw",
   "metadata": {},
   "source": [
    "Step - 5: Fetch data from database\n",
    "\n",
    "row = cur.fetchone()    "
   ]
  },
  {
   "cell_type": "markdown",
   "metadata": {},
   "source": [
    "- fetchall()\n",
    "\n",
    "Fetch all (remaining) rows of a query result, returning them as a sequence of sequences (e.g. a list of tuples).\n",
    "\n",
    "- fetchmany(size)\n",
    "\n",
    "Fetch the next set of rows of a query result, returning a sequence of sequences (e.g. a list of tuples). It will return number of rows that matches to the size\n",
    "argument\n",
    "\n",
    "- fetchone()\n",
    "\n",
    "Fetch the next row of a query result set, returning a single sequence, or None when no more data is available\n"
   ]
  },
  {
   "cell_type": "raw",
   "metadata": {},
   "source": [
    "Example:"
   ]
  },
  {
   "cell_type": "code",
   "execution_count": 2,
   "metadata": {},
   "outputs": [
    {
     "name": "stdout",
     "output_type": "stream",
     "text": [
      "iupui.edu 536\n",
      "umich.edu 491\n",
      "indiana.edu 178\n",
      "caret.cam.ac.uk 157\n",
      "vt.edu 110\n",
      "uct.ac.za 96\n",
      "media.berkeley.edu 56\n",
      "ufp.pt 28\n",
      "gmail.com 25\n",
      "et.gatech.edu 17\n"
     ]
    }
   ],
   "source": [
    "import sqlite3\n",
    "conn = sqlite3.connect(r'C:\\Users\\Rutvik Mehta\\Desktop\\Python - Programming for everybody\\data\\emaildb.sqlite')\n",
    "cur = conn.cursor()\n",
    "cur.execute('DROP TABLE IF EXISTS Counts')\n",
    "cur.execute('''\n",
    "CREATE TABLE Counts (org TEXT, count INTEGER)''')\n",
    "fh = open(r'C:\\Users\\Rutvik Mehta\\Desktop\\Python - Programming for everybody\\data\\mbox.txt')\n",
    "for line in fh:\n",
    "    if not line.startswith('From: '): continue\n",
    "    pieces = line.split()\n",
    "    email = pieces[1].split(\"@\")\n",
    "    org = email[1]\n",
    "    cur.execute('SELECT count FROM Counts WHERE org = ? ', (org,))\n",
    "    row = cur.fetchone()\n",
    "    if row is None:\n",
    "        cur.execute('''INSERT INTO Counts (org, count)\n",
    "                VALUES (?, 1)''', (org,))\n",
    "    else:\n",
    "        cur.execute('UPDATE Counts SET count = count + 1 WHERE org = ?',\n",
    "                    (org,))\n",
    "conn.commit()\n",
    "sqlstr = 'SELECT org, count FROM Counts ORDER BY count DESC LIMIT 10'\n",
    "\n",
    "for row in cur.execute(sqlstr):\n",
    "    print(str(row[0]), row[1])\n",
    "\n",
    "cur.close()"
   ]
  },
  {
   "cell_type": "code",
   "execution_count": 3,
   "metadata": {},
   "outputs": [
    {
     "data": {
      "text/plain": [
       "<sqlite3.Cursor at 0x210c5744730>"
      ]
     },
     "execution_count": 3,
     "metadata": {},
     "output_type": "execute_result"
    }
   ],
   "source": [
    "import sqlite3\n",
    "conn = sqlite3.connect(r'C:\\Users\\Rutvik Mehta\\Desktop\\Python - Programming for everybody\\data\\emaildb.sqlite')\n",
    "cur = conn.cursor()\n",
    "cur.execute(\"CREATE TABLE person (id integer primary key, firstname text, lastname text, dob date)\")"
   ]
  },
  {
   "cell_type": "code",
   "execution_count": 6,
   "metadata": {
    "collapsed": true
   },
   "outputs": [],
   "source": [
    "from datetime import datetime, date\n",
    "cur.execute(\"INSERT INTO person(firstname, lastname, dob) values (?, ?, ?)\", (\"Joe\",\"Doe\",\"2003-06-25\"))\n",
    "d = date(1723,6,5)\n",
    "cur.execute(\"INSERT INTO person(firstname, lastname, dob) values (?, ?, ?)\", (\"Adam\",\"Smith\", d))\n",
    "conn.commit()"
   ]
  },
  {
   "cell_type": "code",
   "execution_count": 9,
   "metadata": {},
   "outputs": [
    {
     "ename": "OperationalError",
     "evalue": "table logs already exists",
     "output_type": "error",
     "traceback": [
      "\u001b[1;31m---------------------------------------------------------------------------\u001b[0m",
      "\u001b[1;31mOperationalError\u001b[0m                          Traceback (most recent call last)",
      "\u001b[1;32m<ipython-input-9-afe022583d2b>\u001b[0m in \u001b[0;36m<module>\u001b[1;34m()\u001b[0m\n\u001b[0;32m      2\u001b[0m \u001b[0mconn\u001b[0m \u001b[1;33m=\u001b[0m \u001b[0msqlite3\u001b[0m\u001b[1;33m.\u001b[0m\u001b[0mconnect\u001b[0m\u001b[1;33m(\u001b[0m\u001b[1;34mr'C:\\Users\\Rutvik Mehta\\Desktop\\Python - Programming for everybody\\data\\emaildb.sqlite'\u001b[0m\u001b[1;33m)\u001b[0m\u001b[1;33m\u001b[0m\u001b[0m\n\u001b[0;32m      3\u001b[0m \u001b[0mcur\u001b[0m \u001b[1;33m=\u001b[0m \u001b[0mconn\u001b[0m\u001b[1;33m.\u001b[0m\u001b[0mcursor\u001b[0m\u001b[1;33m(\u001b[0m\u001b[1;33m)\u001b[0m\u001b[1;33m\u001b[0m\u001b[0m\n\u001b[1;32m----> 4\u001b[1;33m \u001b[0mcur\u001b[0m\u001b[1;33m.\u001b[0m\u001b[0mexecute\u001b[0m\u001b[1;33m(\u001b[0m\u001b[1;34m\"CREATE TABLE logs (id integer primary key, message text, timestamp timestamp)\"\u001b[0m\u001b[1;33m)\u001b[0m\u001b[1;33m\u001b[0m\u001b[0m\n\u001b[0m",
      "\u001b[1;31mOperationalError\u001b[0m: table logs already exists"
     ]
    }
   ],
   "source": [
    "import sqlite3\n",
    "conn = sqlite3.connect(r'C:\\Users\\Rutvik Mehta\\Desktop\\Python - Programming for everybody\\data\\emaildb.sqlite')\n",
    "cur = conn.cursor()\n",
    "cur.execute(\"CREATE TABLE logs (id integer primary key, message text, timestamp timestamp)\")"
   ]
  },
  {
   "cell_type": "code",
   "execution_count": 11,
   "metadata": {
    "collapsed": true
   },
   "outputs": [],
   "source": [
    "cur.execute(\"INSERT INTO logs(message, timestamp) values (?, ?)\", (\"message: error\",'2012-12-25 23:59:59'))\n",
    "cur.execute(\"INSERT INTO logs(message, timestamp) values (?, ?)\", (\"message: ok\", datetime.now()))\n",
    "conn.commit()"
   ]
  },
  {
   "cell_type": "markdown",
   "metadata": {
    "collapsed": true
   },
   "source": [
    "# BLOB"
   ]
  },
  {
   "cell_type": "code",
   "execution_count": 1,
   "metadata": {},
   "outputs": [
    {
     "name": "stdout",
     "output_type": "stream",
     "text": [
      "Connected to SQLite\n",
      "Image and file inserted successfully as a BLOB into a table\n",
      "Connected to SQLite\n",
      "Image and file inserted successfully as a BLOB into a table\n"
     ]
    }
   ],
   "source": [
    "import sqlite3\n",
    "sqliteConnection = sqlite3.connect('SQLite_Python.db')\n",
    "cursor = sqliteConnection.cursor()\n",
    "cursor.execute(\"DROP TABLE IF EXISTS new_employee\")\n",
    "cursor.execute(\"\"\"CREATE TABLE new_employee ( id INTEGER PRIMARY KEY,\n",
    "                       name TEXT NOT NULL, photo BLOB NOT NULL, resume BLOB NOT NULL)\"\"\")  \n",
    "def convertToBinaryData(filename):\n",
    "    #Convert digital data to binary format\n",
    "    with open(filename, 'rb') as file:\n",
    "        blobData = file.read()\n",
    "    return blobData\n",
    "def insertBLOB(empId, name, photo, resumeFile):\n",
    "    try:\n",
    "          \n",
    "        print(\"Connected to SQLite\")\n",
    "        query = \"\"\" INSERT INTO new_employee ('id', 'name', 'photo', 'resume') VALUES (?, ?, ?, ?)\"\"\"\t\t\t\t\t\n",
    "        empPhoto = convertToBinaryData(photo)\n",
    "        resume = convertToBinaryData(resumeFile)\n",
    "        data_tuple = (empId, name, empPhoto, resume)\n",
    "        cursor.execute(query, data_tuple)\n",
    "        sqliteConnection.commit()\n",
    "        print(\"Image and file inserted successfully as a BLOB into a table\")\n",
    "        \n",
    "    except sqlite3.Error as error:\n",
    "        print(\"Failed to insert blob data into sqlite table\", error)\n",
    "insertBLOB(1, \"Rutvik\", r\"H:\\rutvik_personal\\IMAG0544.jpg\", r\"H:\\rutvik_personal\\Short Bio.docx\")\n",
    "insertBLOB(2, \"Mehta\", r\"H:\\rutvik_personal\\GATE.jpg\", r\"H:\\rutvik_personal\\rutvik_cv_06_07_2017.pdf\")\n",
    "cursor.close()\n",
    "\n"
   ]
  },
  {
   "cell_type": "markdown",
   "metadata": {},
   "source": [
    "# BLOB_Read"
   ]
  },
  {
   "cell_type": "code",
   "execution_count": 2,
   "metadata": {},
   "outputs": [
    {
     "name": "stdout",
     "output_type": "stream",
     "text": [
      "Connected to SQLite\n",
      "Id =  1 Name =  Rutvik\n",
      "Storing employee image and resume on disk \n",
      "\n",
      "Stored blob data into:  Rutvik.jpg \n",
      "\n",
      "Stored blob data into:  Rutvik_resume.docx \n",
      "\n",
      "sqlite connection is closed\n",
      "Connected to SQLite\n",
      "Id =  2 Name =  Mehta\n",
      "Storing employee image and resume on disk \n",
      "\n",
      "Stored blob data into:  Mehta.jpg \n",
      "\n",
      "Stored blob data into:  Mehta_resume.docx \n",
      "\n",
      "sqlite connection is closed\n"
     ]
    }
   ],
   "source": [
    "import sqlite3\n",
    "def writeTofile(data, filename):\n",
    "    # Convert binary data to proper format and write it on Hard Disk\n",
    "    with open(filename, 'wb') as file:\n",
    "        file.write(data)\n",
    "    print(\"Stored blob data into: \", filename, \"\\n\")\n",
    "def readBlobData(empId):\n",
    "    try:\n",
    "        sqliteConnection = sqlite3.connect('SQLite_Python.db')\n",
    "        cursor = sqliteConnection.cursor()\n",
    "        print(\"Connected to SQLite\")\n",
    "        sql_fetch_blob_query = \"\"\"SELECT * from new_employee where id = ?\"\"\"\n",
    "        cursor.execute(sql_fetch_blob_query, (empId,))\n",
    "        record = cursor.fetchall()\n",
    "        for row in record:\n",
    "            print(\"Id = \", row[0], \"Name = \", row[1])\n",
    "            name  = row[1]\n",
    "            photo = row[2]\n",
    "            resumeFile = row[3]\n",
    "            print(\"Storing employee image and resume on disk \\n\")\n",
    "            photoPath =   name + \".jpg\"\n",
    "            resumePath =   name + \"_resume.docx\"\n",
    "            writeTofile(photo, photoPath)\n",
    "            writeTofile(resumeFile, resumePath)\n",
    "        cursor.close()\n",
    "    except sqlite3.Error as error:\n",
    "        print(\"Failed to read blob data from sqlite table\", error)\n",
    "    finally:\n",
    "        if (sqliteConnection):\n",
    "            sqliteConnection.close()\n",
    "            print(\"sqlite connection is closed\")\n",
    "readBlobData(1)\n",
    "readBlobData(2)\n"
   ]
  },
  {
   "cell_type": "code",
   "execution_count": null,
   "metadata": {
    "collapsed": true
   },
   "outputs": [],
   "source": []
  }
 ],
 "metadata": {
  "kernelspec": {
   "display_name": "Python 3",
   "language": "python",
   "name": "python3"
  },
  "language_info": {
   "codemirror_mode": {
    "name": "ipython",
    "version": 3
   },
   "file_extension": ".py",
   "mimetype": "text/x-python",
   "name": "python",
   "nbconvert_exporter": "python",
   "pygments_lexer": "ipython3",
   "version": "3.6.1"
  }
 },
 "nbformat": 4,
 "nbformat_minor": 2
}
